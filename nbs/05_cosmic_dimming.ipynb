{
 "cells": [
  {
   "cell_type": "markdown",
   "metadata": {},
   "source": [
    "# Module: Cosmic distances\n",
    "\n",
    "> Rescaling the SEDs due to galactic distances. Will include cosmic redshifting and cosmic dimming effects. "
   ]
  },
  {
   "cell_type": "code",
   "execution_count": null,
   "metadata": {},
   "outputs": [],
   "source": [
    "#| default_exp cosmic_distance_effects"
   ]
  },
  {
   "cell_type": "code",
   "execution_count": null,
   "metadata": {},
   "outputs": [],
   "source": [
    "#| hide\n",
    "from nbdev.showdoc import *"
   ]
  },
  {
   "cell_type": "code",
   "execution_count": null,
   "metadata": {},
   "outputs": [],
   "source": [
    "#| export\n",
    "import numpy as np\n",
    "from astropy.cosmology import *\n",
    "from watercolor.ssp_interpolation import spec_ssp_lookup\n",
    "\n",
    "from watercolor.load_sps_library import load_fsps_spectral_library, load_fsps_age_metallicity\n",
    "from watercolor.load_sps_library import LIBRARY_FLUX_FILE, LIBRARY_WAVE_FILE, LIBRARY_AGE_FILE, LIBRARY_METAL_FILE\n",
    "from watercolor.load_sim_stellar_catalog import load_hacc_galaxy_data\n",
    "from watercolor.load_sim_stellar_catalog import GALS_FILE\n",
    "from watercolor.load_sim_stellar_catalog import Z_SOLAR_PADOVA, H0\n",
    "\n",
    "from watercolor.calculate_csp import calc_fluxes_for_galaxy"
   ]
  },
  {
   "cell_type": "code",
   "execution_count": null,
   "metadata": {},
   "outputs": [],
   "source": []
  },
  {
   "cell_type": "code",
   "execution_count": null,
   "metadata": {},
   "outputs": [],
   "source": [
    "#| hide\n",
    "\n",
    "import matplotlib.pylab as plt"
   ]
  },
  {
   "cell_type": "code",
   "execution_count": null,
   "metadata": {},
   "outputs": [],
   "source": [
    "#| hide\n",
    "\n",
    "gal_tag, stellar_idx, metal_hydro, mass, age_hydro, x, y, z, vx, vy, vz = load_hacc_galaxy_data()"
   ]
  },
  {
   "cell_type": "code",
   "execution_count": null,
   "metadata": {},
   "outputs": [
    {
     "name": "stdout",
     "output_type": "stream",
     "text": [
      "Library shape:  (22, 94, 1963)\n",
      "Wavelength shape:  (1963,)\n"
     ]
    }
   ],
   "source": [
    "#| hide\n",
    "\n",
    "gal_id = 2\n",
    "unique_gal_tag = np.unique(gal_tag)[gal_id]\n",
    "\n",
    "spec_wave_ssp, spec_flux_ssp, spec_csp, flux_proxy, gal_stellar_mass = calc_fluxes_for_galaxy(\n",
    "    GALS_FILE, \n",
    "    unique_gal_tag,\n",
    "    LIBRARY_FLUX_FILE,\n",
    "    LIBRARY_WAVE_FILE,\n",
    "    LIBRARY_AGE_FILE,\n",
    "    LIBRARY_METAL_FILE)"
   ]
  },
  {
   "cell_type": "code",
   "execution_count": null,
   "metadata": {},
   "outputs": [
    {
     "data": {
      "text/plain": [
       "(100.0, 1000.0)"
      ]
     },
     "execution_count": null,
     "metadata": {},
     "output_type": "execute_result"
    },
    {
     "data": {
      "image/png": "[encoded data removed]",
      "text/plain": [
       "<Figure size 432x288 with 1 Axes>"
      ]
     },
     "metadata": {
      "needs_background": "light"
     },
     "output_type": "display_data"
    }
   ],
   "source": [
    "#| hide\n",
    "\n",
    "plt.figure()\n",
    "plt.plot(spec_wave_ssp, spec_flux_ssp.T)\n",
    "plt.plot(spec_wave_ssp, spec_csp)\n",
    "plt.xscale('log')\n",
    "plt.yscale('log')\n",
    "plt.xlim(1e2, 1e3)"
   ]
  },
  {
   "cell_type": "code",
   "execution_count": null,
   "metadata": {},
   "outputs": [],
   "source": [
    "#| hide\n",
    "\n",
    "def luminosity_solar(SED, redshift_in, wave):\n",
    "    \n",
    "    sed_Jy = SED\n",
    "    sed_ergscm2A = sed_Jy*2.998e+18*1.0e-23/np.asarray(wave)/np.asarray(wave) #erg/s/cm2/A\n",
    "    intSED = simps(sed_ergscm2A, wave) #erg/s/cm2\n",
    "    # dd1  = alphaq_cosmo.luminosityDistance(redshift_in) #Mpc?\n",
    "    dd1 = cosmo.luminosityDistance(redshift_in) #Mpc?\n",
    "\n",
    "    dd1cm = dd1*3.086e+24 #cm\n",
    "    fac = 4*np.pi*(dd1cm**2) #cm2\n",
    "    lum = fac*intSED #erg/s\n",
    "    lum_sol = lum/(3.826*1e33)\n",
    "    \n",
    "    return lum_sol\n",
    "\n",
    "def observer_frame_wavelength(wavelength, \n",
    "                              redshift):\n",
    "    obs_frame_wave = wavelength*(1 + redshift)\n",
    "    return obs_frame_wave"
   ]
  },
  {
   "cell_type": "code",
   "execution_count": null,
   "metadata": {},
   "outputs": [],
   "source": [
    "#| export\n",
    "\n",
    "def spectrum_convert_from_ergscm2A(wave:np.array, # Input flux from 'erg/s/cm2/A'\n",
    "                                    spec:np.array, # Wavelength \n",
    "                                    funit:str='Jy' # Output units\n",
    "                                    ) -> np.array: # Converted flux to 'erg/s/cm2' or 'Jy'\n",
    "\n",
    "    if funit=='erg/s/cm2/A' or funit==0:\n",
    "        spec_new = spec\n",
    "    elif funit=='erg/s/cm2' or funit==1:\n",
    "        spec_new = np.asarray(spec)*np.asarray(wave)\n",
    "    elif funit=='Jy' or funit==2:\n",
    "        spec_new = np.asarray(spec)*np.asarray(wave)*np.asarray(wave)/1.0e-23/2.998e+18\n",
    "    else:\n",
    "        print (\"The input funit is not recognized!\")\n",
    "        sys.exit()\n",
    "\n",
    "    return spec_new\n",
    "\n",
    "\n",
    "def spectrum_convert_from_uJy(wave:np.array, # Input flux from 'uJy'\n",
    "                               spec:np.array, # Wavelength \n",
    "                               funit:str='Jy' # Output units\n",
    "                               ) -> tuple: # Converted flux to 'erg/s/cm2' or 'erg/s/cm2/A'\n",
    "\n",
    "    if funit=='Jy' or funit==0:\n",
    "        spec_new = spec*1e6\n",
    "    elif funit=='erg/s/cm2' or funit==1:\n",
    "        spec_new = np.asarray(spec*1e6)/np.asarray(wave)\n",
    "    elif funit=='erg/s/cm2/A' or funit==2:\n",
    "        spec_new = np.asarray(spec*1e6)*(1.0e-23*2.998e+18)/(np.asarray(wave)*np.asarray(wave))\n",
    "    else:\n",
    "        print (\"The input funit is not recognized!\")\n",
    "        sys.exit()\n",
    "\n",
    "    return spec_new"
   ]
  },
  {
   "cell_type": "code",
   "execution_count": null,
   "metadata": {},
   "outputs": [],
   "source": [
    "#| export\n",
    "\n",
    "def spectrum_dimmed_and_redshifted(DL_Gpc:np.float64=0.0, # Luminosity distance (LD) in unit of Gpc.\n",
    "                      cosmo:str='flat_LCDM', # Choice of Astropy cosmology models ['flat_LCDM', 'WMAP9', 'Planck15']\n",
    "                      H0:np.float64=70.0, # Hubble constant at z=0.\n",
    "                      Om0:np.float64=0.3, # Omega matter at z=0.\n",
    "                      z:np.float64=0.01, # Redshift\n",
    "                      wave:np.array=[], # Wavelength grids of the input spectrum.\n",
    "                      spec: np.array=[] # Fluxes of the input spectrum.  \n",
    "                      ) -> tuple: # wavelength, SED of the redshifted and dimmed spectrum\n",
    "\n",
    "    if DL_Gpc > 0.0:\n",
    "        DL = DL_Gpc\n",
    "        DL = DL*3.08568e+27\n",
    "    else:\n",
    "        if cosmo=='flat_LCDM' or cosmo==0:\n",
    "            cosmo1 = FlatLambdaCDM(H0=H0, Om0=Om0)\n",
    "            DL = cosmo1.luminosity_distance(z)      # in unit of Mpc\n",
    "        \n",
    "        elif cosmo=='WMAP9' or cosmo==3:\n",
    "            DL = WMAP9.luminosity_distance(z)\n",
    "        \n",
    "        elif cosmo=='Planck15' or cosmo==5:\n",
    "            DL = Planck15.luminosity_distance(z)\n",
    "\n",
    "        \n",
    "        DL = DL.value/1.0e+3\n",
    "        DL = DL*3.08568e+27\n",
    "\n",
    "    redsh_wave = (1.0+z)*np.asarray(wave)\n",
    "    cor = 1.0/12.56637061/DL/DL/(1.0+z)           # flux in L_solar cm^-2 A^-1\n",
    "    cor = cor*3.826e+33                           # flux in erg s^-1 cm^-2 A^-1\n",
    "    redsh_spec = cor*np.asarray(spec)\n",
    "\n",
    "    return redsh_wave, redsh_spec"
   ]
  },
  {
   "cell_type": "code",
   "execution_count": null,
   "metadata": {},
   "outputs": [],
   "source": [
    "#| hide\n",
    "\n",
    "galaxy_star_catalog_file = '../watercolor/data/test_hacc_stellar_catalog/Gals_Z0.txt'\n",
    "galaxy_tags, stellar_idx, metal_hydro, mass, age_hydro, _, _, _, _, _, _ = load_hacc_galaxy_data(galaxy_star_catalog_file)"
   ]
  },
  {
   "cell_type": "code",
   "execution_count": null,
   "metadata": {},
   "outputs": [
    {
     "name": "stdout",
     "output_type": "stream",
     "text": [
      "Library shape:  (22, 94, 1963)\n",
      "Wavelength shape:  (1963,)\n"
     ]
    }
   ],
   "source": [
    "#| hide \n",
    "\n",
    "galaxy_number = 4\n",
    "unique_galaxy_tag = np.unique(galaxy_tags)[galaxy_number]\n",
    "\n",
    "spec_wave_ssp, spec_flux_ssp, spec_csp, flux_proxy, gal_stellar_mass = calc_fluxes_for_galaxy(galaxy_star_catalog_file,\n",
    "                                                                                              unique_galaxy_tag,\n",
    "                                                                                              LIBRARY_FLUX_FILE,\n",
    "                                                                                              LIBRARY_WAVE_FILE,\n",
    "                                                                                              LIBRARY_AGE_FILE,\n",
    "                                                                                              LIBRARY_METAL_FILE)"
   ]
  },
  {
   "cell_type": "code",
   "execution_count": null,
   "metadata": {},
   "outputs": [],
   "source": [
    "# #| hide \n",
    "\n",
    "# spec_csp_ergscm2A = spectrum_convert_from_uJy(spec_wave_ssp, \n",
    "#                                 spec_csp,\n",
    "#                                 funit='erg/s/cm2/A')\n",
    "\n",
    "# redsh_wave, redsh_spec = spectrum_dimmed_and_redshifted(DL_Gpc=0.0,\n",
    "#                                            cosmo='flat_LCDM',\n",
    "#                                            H0=70.0,\n",
    "#                                            Om0=0.3,\n",
    "#                                            z=0.01,\n",
    "#                                            wave=spec_wave_ssp,\n",
    "#                                            spec=spec_csp_ergscm2A)\n",
    "\n",
    "# redsh_spec = spectrum_convert_from_ergscm2A(redsh_wave,\n",
    "#                                 redsh_spec,\n",
    "#                                 funit='Jy')#*1e6"
   ]
  },
  {
   "cell_type": "code",
   "execution_count": null,
   "metadata": {},
   "outputs": [],
   "source": [
    "#| export\n",
    "\n",
    "def combine_redshift_and_dimming_effect(wave:np.array=[], # Wavelength grids of the input spectrum in Unit \n",
    "                                        spec:np.array=[], # # Fluxes of the input spectrum.  \n",
    "                                        galaxy_redshift:np.float64=0.01 # Redshift of the galaxy\n",
    "                                       ) ->tuple: # Output of wavelength and spectra\n",
    "    \n",
    "    spec_csp_ergscm2A = spectrum_convert_from_uJy(wave, \n",
    "                                spec,\n",
    "                                funit='erg/s/cm2/A')\n",
    "\n",
    "    redsh_wave, redsh_spec = spectrum_dimmed_and_redshifted(DL_Gpc=0.0,\n",
    "                                               cosmo='flat_LCDM',\n",
    "                                               H0=70.0,\n",
    "                                               Om0=0.3,\n",
    "                                               z=galaxy_redshift,\n",
    "                                               wave=wave,\n",
    "                                               spec=spec_csp_ergscm2A)\n",
    "\n",
    "    redsh_spec = spectrum_convert_from_ergscm2A(redsh_wave,\n",
    "                                    redsh_spec,\n",
    "                                    funit='Jy')*1e6\n",
    "    \n",
    "    return redsh_wave, redsh_spec"
   ]
  },
  {
   "cell_type": "code",
   "execution_count": null,
   "metadata": {},
   "outputs": [],
   "source": [
    "#| hide\n",
    "\n",
    "redsh_wave, redsh_spec = combine_redshift_and_dimming_effect(spec_wave_ssp, spec_csp, 0.001)"
   ]
  },
  {
   "cell_type": "code",
   "execution_count": null,
   "metadata": {},
   "outputs": [
    {
     "data": {
      "text/plain": [
       "<matplotlib.legend.Legend>"
      ]
     },
     "execution_count": null,
     "metadata": {},
     "output_type": "execute_result"
    },
    {
     "data": {
      "image/png": "[encoded data removed]",
      "text/plain": [
       "<Figure size 864x216 with 1 Axes>"
      ]
     },
     "metadata": {
      "needs_background": "light"
     },
     "output_type": "display_data"
    }
   ],
   "source": [
    "#| hide \n",
    "\n",
    "f, a = plt.subplots(1, 1, figsize=(12, 3))\n",
    "a.plot(spec_wave_ssp, spec_csp, label='No dust')\n",
    "a.plot(redsh_wave, redsh_spec, label='Redshift and dimming')\n",
    "\n",
    "\n",
    "\n",
    "# a.set_xlim(3e3, 1e4)\n",
    "a.set_xlim(3e3, 1e6)\n",
    "\n",
    "a.set_xscale('log')\n",
    "a.set_yscale('log')\n",
    "\n",
    "a.set_xlabel(r'${\\rm wavelength\\ [\\AA]}$', fontsize = 'x-large')\n",
    "a.set_ylabel(r'$L_{\\rm CSP}(\\lambda)\\ {\\rm [L_{\\odot}/\\AA]}$', fontsize = 'x-large')\n",
    "a.legend(fontsize='x-large')"
   ]
  },
  {
   "cell_type": "code",
   "execution_count": null,
   "metadata": {},
   "outputs": [],
   "source": [
    "#| hide\n",
    "import nbdev; nbdev.nbdev_export()"
   ]
  },
  {
   "cell_type": "code",
   "execution_count": null,
   "metadata": {},
   "outputs": [],
   "source": []
  }
 ],
 "metadata": {
  "kernelspec": {
   "display_name": "python3",
   "language": "python",
   "name": "python3"
  }
 },
 "nbformat": 4,
 "nbformat_minor": 4
}
