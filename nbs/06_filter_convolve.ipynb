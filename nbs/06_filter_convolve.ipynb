{
 "cells": [
  {
   "cell_type": "markdown",
   "metadata": {},
   "source": [
    "# Module: Filter convolution\n",
    "\n",
    "> Change from narrow-band SED to colors based on Telescope specification"
   ]
  },
  {
   "cell_type": "code",
   "execution_count": null,
   "metadata": {},
   "outputs": [],
   "source": [
    "#| default_exp filter_convolve"
   ]
  },
  {
   "cell_type": "code",
   "execution_count": null,
   "metadata": {},
   "outputs": [],
   "source": [
    "#| hide\n",
    "\n",
    "from nbdev.showdoc import *"
   ]
  },
  {
   "cell_type": "code",
   "execution_count": null,
   "metadata": {},
   "outputs": [],
   "source": [
    "#| export\n",
    "\n",
    "import numpy as np\n",
    "import glob\n",
    "from scipy.interpolate import interp1d as interp1d\n",
    "from watercolor.ssp_interpolation import spec_ssp_lookup\n",
    "\n",
    "from watercolor.load_sps_library import load_fsps_spectral_library, load_fsps_age_metallicity\n",
    "from watercolor.load_sps_library import STELLAR_LIBRARY_DIR\n",
    "\n",
    "from watercolor.load_sim_stellar_catalog import load_hacc_galaxy_data\n",
    "from watercolor.load_sim_stellar_catalog import GALS_FILE\n",
    "from watercolor.load_sim_stellar_catalog import Z_SOLAR_PADOVA, H0\n",
    "\n",
    "from watercolor.calculate_csp import calc_fluxes_for_galaxy"
   ]
  },
  {
   "cell_type": "code",
   "execution_count": null,
   "metadata": {},
   "outputs": [],
   "source": [
    "#| hide\n",
    "\n",
    "import matplotlib.pylab as plt\n",
    "from matplotlib.cm import get_cmap\n",
    "import pkg_resources"
   ]
  },
  {
   "cell_type": "code",
   "execution_count": null,
   "metadata": {},
   "outputs": [],
   "source": [
    "#| hide\n",
    "\n",
    "gal_tag, stellar_idx, metal_hydro, mass, age_hydro, x, y, z, vx, vy, vz = load_hacc_galaxy_data()"
   ]
  },
  {
   "cell_type": "code",
   "execution_count": null,
   "metadata": {},
   "outputs": [
    {
     "name": "stdout",
     "output_type": "stream",
     "text": [
      "Library shape:  (22, 94, 1963)\n",
      "Wavelength shape:  (1963,)\n"
     ]
    }
   ],
   "source": [
    "#| hide\n",
    "\n",
    "gal_id = 12\n",
    "unique_gal_tag = np.unique(gal_tag)[gal_id]\n",
    "\n",
    "spec_wave_ssp, spec_flux_ssp, spec_csp, flux_proxy, gal_stellar_mass = calc_fluxes_for_galaxy(\n",
    "    GALS_FILE, \n",
    "    unique_gal_tag,\n",
    "    STELLAR_LIBRARY_DIR)"
   ]
  },
  {
   "cell_type": "code",
   "execution_count": null,
   "metadata": {},
   "outputs": [
    {
     "data": {
      "text/plain": [
       "(1.0, 10.0)"
      ]
     },
     "execution_count": null,
     "metadata": {},
     "output_type": "execute_result"
    },
    {
     "data": {
      "image/png": "[encoded data removed]",
      "text/plain": [
       "<Figure size 432x288 with 1 Axes>"
      ]
     },
     "metadata": {
      "needs_background": "light"
     },
     "output_type": "display_data"
    }
   ],
   "source": [
    "#| hide\n",
    "\n",
    "plt.figure()\n",
    "# plt.plot(spec_wave_ssp/1e4, spec_flux_ssp.T*1e3)\n",
    "plt.plot(spec_wave_ssp/1e4, spec_csp*1e3)\n",
    "# plt.xscale('log')\n",
    "plt.yscale('log')\n",
    "plt.ylabel(r'$F_\\nu$ (mJy)', fontsize=18)\n",
    "plt.xlabel(' Wavelength (um) ', fontsize=18)\n",
    "plt.ylim(1e-3, 2e-1)\n",
    "plt.xlim(1, 10)"
   ]
  },
  {
   "cell_type": "code",
   "execution_count": null,
   "metadata": {},
   "outputs": [],
   "source": [
    "#| export\n",
    "\n",
    "ALL_FILTER_DIR = '../watercolor/data/filter_specifics/'"
   ]
  },
  {
   "cell_type": "code",
   "execution_count": null,
   "metadata": {},
   "outputs": [],
   "source": [
    "#| hide\n",
    "\n",
    "SURVEY_STRING = ['LSST', 'cosmos', 'SPHEREx'][1]\n",
    "# FILTER_NAMES = pkg_resources.resource_stream(\"watercolor\", ALL_FILTER_DIR).name"
   ]
  },
  {
   "cell_type": "code",
   "execution_count": null,
   "metadata": {},
   "outputs": [],
   "source": [
    "#| export\n",
    "\n",
    "def load_indiv_filter_all(filtfile:str=ALL_FILTER_DIR+'LSST', # Individual filter files \n",
    "                          norm:bool=True #Bandpass normalization condition\n",
    "                         )->tuple: #Wavelengths, bandpass values, central wavelengths, filter name\n",
    "    \n",
    "    if ('SPHEREx' in filtfile):\n",
    "        bandpass_name = filtfile.split('.dat')[0].split('/')[-1]\n",
    "        x = np.loadtxt(filtfile)\n",
    "    else:\n",
    "        bandpass_name = filtfile.split('.npy')[0].split('/')[-1]\n",
    "        x = np.load(filtfile)\n",
    "    \n",
    "    nonz = (x[:,1] != 0.)\n",
    "    bandpass_wav = x[nonz,0]*1e-4\n",
    "    bandpass_val = x[nonz,1]\n",
    "\n",
    "    if norm:\n",
    "        bandpass_val /= np.sum(bandpass_val)\n",
    "\n",
    "    cenwav = np.dot(bandpass_wav, bandpass_val)\n",
    "    # cenwav = np.dot(x[nonz,0], x[nonz,1])\n",
    "\n",
    "    return bandpass_wav, bandpass_val, cenwav, bandpass_name"
   ]
  },
  {
   "cell_type": "code",
   "execution_count": null,
   "metadata": {},
   "outputs": [],
   "source": [
    "#| export\n",
    "\n",
    "def clip_bandpass_vals(bandpass_wavs:np.float32=None, \n",
    "                       bandpass_vals:np.float32=None\n",
    "                      )->tuple: #Clipped bandpass wavelengths, clipped bandpass values\n",
    "    all_clip_bandpass_wav, all_clip_bandpass_vals = [], []\n",
    "\n",
    "    for b in range(len(bandpass_wavs)):\n",
    "        nonz_bandpass_val = (bandpass_vals[b] > 0)\n",
    "        clip_bandpass_wav = bandpass_wavs[b][nonz_bandpass_val]\n",
    "        clip_bandpass_vals = bandpass_vals[b][nonz_bandpass_val]\n",
    "        all_clip_bandpass_wav.append(clip_bandpass_wav)\n",
    "        all_clip_bandpass_vals.append(clip_bandpass_vals)\n",
    "\n",
    "    return all_clip_bandpass_wav, all_clip_bandpass_vals"
   ]
  },
  {
   "cell_type": "code",
   "execution_count": null,
   "metadata": {},
   "outputs": [],
   "source": [
    "#| export \n",
    "\n",
    "def load_survey_filters(filtdir:str=ALL_FILTER_DIR+'LSST', #Input directory with all filter definitions\n",
    "                        to_um:bool=True, #True/False to convert wavelengths to microns\n",
    "                       )->tuple: #Central wavelengths, Bandpass wavelengths, Bandpass values, filter names \n",
    "\n",
    "    if ('SPHEREx' in filtdir):\n",
    "        \n",
    "        bandpass_wavs, bandpass_vals, central_wavelengths, bandpass_names = [], [], [], []\n",
    "        \n",
    "        # bandpass_wavs = np.array([], dtype=object)\n",
    "        # bandpass_vals = np.array([], dtype=object)\n",
    "        # central_wavelengths = np.array([], dtype=object)\n",
    "        # bandpass_names = np.array([], dtype=object)\n",
    "        \n",
    "        bband_idxs = np.arange(1, 7)\n",
    "    \n",
    "        for bandidx in bband_idxs:\n",
    "            # filtfiles = glob.glob(filtdir+'SPHEREx_band'+str(bandidx)+'*.dat')\n",
    "            filtfiles = glob.glob(filtdir+'*'+str(bandidx)+'*.dat')\n",
    "\n",
    "            for filtfile in filtfiles:\n",
    "\n",
    "                bandpass_wav, bandpass_val, cenwav, bandpass_name = load_indiv_filter_all(filtfile)\n",
    "                \n",
    "#                 bandpass_names.append(bandpass_name)\n",
    "#                 bandpass_wavs.append(bandpass_wav)\n",
    "#                 bandpass_vals.append(bandpass_val)\n",
    "#                 central_wavelengths.append(cenwav)\n",
    "                \n",
    "                np.append(bandpass_names, bandpass_name)\n",
    "                np.append(bandpass_wavs, bandpass_wav)\n",
    "                np.append(bandpass_vals, bandpass_val)\n",
    "                np.append(central_wavelengths, cenwav)\n",
    "    \n",
    "    else:\n",
    "        bandpass_wavs, bandpass_vals, central_wavelengths, bandpass_names = [], [], [], []\n",
    "        \n",
    "        # bandpass_wavs = np.array([], dtype=np.float64)\n",
    "        # bandpass_vals = np.array([], dtype=np.float64)\n",
    "        # central_wavelengths = np.array([], dtype=np.float64)\n",
    "        # bandpass_names = np.array([], dtype=object)\n",
    "    \n",
    "\n",
    "        filtfiles = glob.glob(filtdir+'*.npy')\n",
    "        for filtfile in filtfiles:            \n",
    "\n",
    "            bandpass_wav, bandpass_val, cenwav, bandpass_name = load_indiv_filter_all(filtfile)\n",
    "            \n",
    "            # print(bandpass_wav)\n",
    "            # print(bandpass_val)\n",
    "            # print(cenwav)\n",
    "            # print(bandpass_name)\n",
    "            \n",
    "            bandpass_names.append(bandpass_name)\n",
    "            bandpass_wavs.append(bandpass_wav)\n",
    "            bandpass_vals.append(bandpass_val)\n",
    "            central_wavelengths.append(cenwav)\n",
    "            \n",
    "            # np.append(bandpass_names, bandpass_name)\n",
    "            # np.append(bandpass_wavs, bandpass_wav)\n",
    "            # np.append(bandpass_vals, bandpass_val)\n",
    "            # np.append(central_wavelengths, cenwav)\n",
    "        \n",
    "    return central_wavelengths, bandpass_wavs, bandpass_vals, bandpass_names\n",
    "    # return np.array(central_wavelengths, dtype=np.float64), np.array(bandpass_wavs, dtype=np.float64), np.array(bandpass_vals, dtype=np.float64), np.array(bandpass_names, dtype=object)"
   ]
  },
  {
   "cell_type": "code",
   "execution_count": null,
   "metadata": {},
   "outputs": [],
   "source": [
    "#| export\n",
    "\n",
    "def sed_to_mock_phot(central_wavelengths:np.array=None, # Central wavelengths\n",
    "                     sed_um_wave:np.array=None, # SED wavelengths (in microns)\n",
    "                     sed_mJy_flux:np.array=None, # SED fluxes (in mJy)\n",
    "                     bandpass_wavs:np.array=None, # Bandpass wavelenths\n",
    "                     bandpass_vals:np.array=None, # Bandspass values\n",
    "                     interp_kind:str='linear', # Interpolation type\n",
    "                     plot:bool=True, # Plotting SEDs with filter convolution\n",
    "                     clip_bandpass:bool=True #Clip bandpass condition\n",
    "                    )->tuple: # Fluxes, Apparent magnitudes, Band fluxes\n",
    "    # central wavelengths in micron\n",
    "    if clip_bandpass:\n",
    "        all_clip_bandpass_wav, all_clip_bandpass_vals = clip_bandpass_vals(bandpass_wavs, bandpass_vals)\n",
    "\n",
    "    sed_interp = interp1d(sed_um_wave,\n",
    "                          sed_mJy_flux,\n",
    "                          kind=interp_kind,\n",
    "                          bounds_error=False, \n",
    "                          fill_value = 0.0)\n",
    "\n",
    "    band_fluxes = np.zeros_like(central_wavelengths)\n",
    "\n",
    "    for b, bandpass_wav in enumerate(bandpass_wavs):\n",
    "        # fluxes in mJy\n",
    "        if clip_bandpass:\n",
    "            band_fluxes[b] = np.dot(all_clip_bandpass_vals[b], sed_interp(all_clip_bandpass_wav[b]))\n",
    "        else:\n",
    "            band_fluxes[b] = np.dot(bandpass_vals[b], sed_interp(bandpass_wav))\n",
    "\n",
    "    flux = 1e3*band_fluxes # uJy\n",
    "    appmag_ext = -2.5*np.log10(flux)+23.9\n",
    "\n",
    "    if plot:\n",
    "\n",
    "        wav_um = np.array(central_wavelengths)\n",
    "\n",
    "        plt.figure(figsize=(12, 4))\n",
    "        plt.title('sed uJy flux')\n",
    "        plt.plot(sed_um_wave, 1e3*sed_mJy_flux, color='k', zorder=5, alpha=0.5)\n",
    "        plt.scatter(wav_um, flux, color='r', label='bandpass-convolved fluxes', s=30)\n",
    "        # plt.ylim(0, 1.2*np.max(flux))\n",
    "        plt.xlabel('um', fontsize=16)\n",
    "        plt.ylabel('uJy', fontsize=16)\n",
    "        plt.xlim(wav_um.min()*0.8, wav_um.max()*1.2)\n",
    "        plt.tick_params(labelsize=14)\n",
    "        plt.legend()\n",
    "        plt.show()\n",
    "\n",
    "    return flux, appmag_ext, band_fluxes"
   ]
  },
  {
   "cell_type": "code",
   "execution_count": null,
   "metadata": {},
   "outputs": [],
   "source": [
    "#| hide\n",
    "\n",
    "central_wavelengths, bandpass_wavs, bandpass_vals, bandpass_names = load_survey_filters(filtdir=ALL_FILTER_DIR+SURVEY_STRING, \n",
    "                                                                                        to_um=True)"
   ]
  },
  {
   "cell_type": "code",
   "execution_count": null,
   "metadata": {},
   "outputs": [
    {
     "data": {
      "image/png": "[encoded data removed]",
      "text/plain": [
       "<Figure size 1008x144 with 1 Axes>"
      ]
     },
     "metadata": {
      "needs_background": "light"
     },
     "output_type": "display_data"
    }
   ],
   "source": [
    "#| hide\n",
    "\n",
    "f, a = plt.subplots(1, figsize=(14, 2))\n",
    "name = \"viridis\"\n",
    "\n",
    "for central_idx in range(np.array(central_wavelengths).shape[0]):\n",
    "    a.plot(bandpass_wavs[central_idx], bandpass_vals[central_idx], label=bandpass_names[central_idx])\n",
    "   \n",
    "# a.set_xscale('log')\n",
    "# a.set_xlim(0, 5)\n",
    "# plt.legend(ncol=6, bbox_to_anchor=[0.5, -1.0], loc='center')"
   ]
  },
  {
   "cell_type": "code",
   "execution_count": null,
   "metadata": {},
   "outputs": [
    {
     "data": {
      "image/png": "[encoded data removed]",
      "text/plain": [
       "<Figure size 864x288 with 1 Axes>"
      ]
     },
     "metadata": {
      "needs_background": "light"
     },
     "output_type": "display_data"
    }
   ],
   "source": [
    "#| hide\n",
    "\n",
    "sed_um_wave = spec_wave_ssp/1e4\n",
    "sed_mJy_flux = spec_csp*1e3\n",
    "\n",
    "flux_survey, appmag_ext_survey_satellite, band_fluxes_survey = sed_to_mock_phot(central_wavelengths, \n",
    "                                                                          sed_um_wave, \n",
    "                                                                          sed_mJy_flux, \n",
    "                                                                          bandpass_wavs, \n",
    "                                                                          bandpass_vals, \n",
    "                                                                          interp_kind='linear',\n",
    "                                                                          plot=True,\n",
    "                                                                          clip_bandpass=True)\n",
    "\n",
    "survey_mags = appmag_ext_survey_satellite"
   ]
  },
  {
   "cell_type": "code",
   "execution_count": null,
   "metadata": {},
   "outputs": [],
   "source": [
    "#| hide\n",
    "\n",
    "import nbdev; nbdev.nbdev_export()"
   ]
  },
  {
   "cell_type": "code",
   "execution_count": null,
   "metadata": {},
   "outputs": [],
   "source": []
  }
 ],
 "metadata": {
  "kernelspec": {
   "display_name": "python3",
   "language": "python",
   "name": "python3"
  }
 },
 "nbformat": 4,
 "nbformat_minor": 4
}
