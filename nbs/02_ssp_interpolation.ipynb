{
 "cells": [
  {
   "cell_type": "markdown",
   "metadata": {},
   "source": [
    "# Module: Interpolation routines for SSP\n",
    "\n",
    "> Lookup table or interpolation for Simple stellar population (SSPs)"
   ]
  },
  {
   "cell_type": "code",
   "execution_count": null,
   "metadata": {},
   "outputs": [],
   "source": [
    "#| default_exp ssp_interpolation"
   ]
  },
  {
   "cell_type": "code",
   "execution_count": null,
   "metadata": {},
   "outputs": [],
   "source": [
    "#| hide\n",
    "from nbdev.showdoc import *"
   ]
  },
  {
   "cell_type": "code",
   "execution_count": null,
   "metadata": {},
   "outputs": [],
   "source": [
    "#| export\n",
    "import numpy as np"
   ]
  },
  {
   "cell_type": "code",
   "execution_count": null,
   "metadata": {},
   "outputs": [],
   "source": [
    "#| export\n",
    "\n",
    "def spec_ssp_lookup_nearest(age_hydro_i:np.float32=None, # Age of the HACC stellar particle\n",
    "             metal_hydro_i:np.float32=None, # Metallicity of the stellar particle\n",
    "             mass_hydro_i:np.float32=None, # Mass of the stellar particle\n",
    "             age_fsps:np.float32=None, # Ages in SPS library\n",
    "             z_padova_fsps:np.float32=None, # Metallicities in SPS library\n",
    "             spec_flux:np.array=None, # Stellar library SEDs \n",
    "             spec_wave:np.array=None, # Stellar library wavelengths\n",
    "            )-> tuple: # SSP Wavelength (A), SSP Luminosity (Lsun/A)\n",
    "    '''\n",
    "    Lookup table for finding the closest SPS entry to HACC SSP\n",
    "    '''\n",
    "    # https://ned.ipac.caltech.edu/level5/Sept14/Conroy/Conroy2.html\n",
    "    \n",
    "    age_index = np.argmin(np.abs(age_fsps-age_hydro_i))\n",
    "    met_index = np.argmin(np.abs(z_padova_fsps-metal_hydro_i))\n",
    "    # print(age_index, met_index)\n",
    "    # spec_flux_i = 1e10*mass_hydro_i*spec_flux[met_index, age_index]  ## Not sure where 1e10 factor is from. Will ignore for now\n",
    "    spec_flux_i = mass_hydro_i*spec_flux[met_index, age_index]\n",
    "    \n",
    "    return spec_wave, spec_flux_i"
   ]
  },
  {
   "cell_type": "code",
   "execution_count": null,
   "metadata": {},
   "outputs": [],
   "source": [
    "#| export\n",
    "\n",
    "def spec_ssp_lookup(age_hydro_i:np.float32=None, # Age of the HACC stellar particle\n",
    "             metal_hydro_i:np.float32=None, # Metallicity of the stellar particle\n",
    "             mass_hydro_i:np.float32=None, # Mass of the stellar particle\n",
    "             age_fsps:np.float32=None, # Ages in SPS library\n",
    "             z_padova_fsps:np.float32=None, # Metallicities in SPS library\n",
    "             spec_flux:np.array=None, # Stellar library SEDs \n",
    "             spec_wave:np.array=None, # Stellar library wavelengths\n",
    "            )-> tuple: # SSP Wavelength (A), SSP Luminosity (Lsun/A)\n",
    "    '''\n",
    "    Interpolation for finding the closest SPS entry to HACC SSP\n",
    "    '''\n",
    "    # https://ned.ipac.caltech.edu/level5/Sept14/Conroy/Conroy2.html\n",
    "    \n",
    "    \n",
    "    age_diff = np.abs(age_fsps-age_hydro_i)\n",
    "    metal_diff = np.abs(z_padova_fsps-metal_hydro_i)\n",
    "\n",
    "    age_index = np.argsort(age_diff)\n",
    "    met_index = np.argsort(metal_diff)\n",
    "    \n",
    "    \n",
    "    age_min = np.min([age_index[1], age_index[0]])\n",
    "    met_min = np.min([met_index[1], met_index[0]])\n",
    "    \n",
    "    age_diff_grid = np.abs(age_fsps[age_min + 1] - age_fsps[age_min])\n",
    "    metal_diff_grid = np.abs(z_padova_fsps[met_min + 1] - z_padova_fsps[met_min])\n",
    "    diff_denom = age_diff_grid*metal_diff_grid\n",
    "    \n",
    "    age_0 = np.abs(age_fsps[age_min] - age_hydro_i)\n",
    "    met_0 = np.abs(z_padova_fsps[met_min] - metal_hydro_i)\n",
    "    \n",
    "    \n",
    "    spec_flux_00 = spec_flux[met_min, age_min] \n",
    "    spec_flux_01 = spec_flux[met_min, age_min + 1] \n",
    "    spec_flux_10 = spec_flux[met_min + 1, age_min] \n",
    "    spec_flux_11 = spec_flux[met_min + 1, age_min + 1] \n",
    "    \n",
    "    w00 = (1-age_0)*(1-met_0)\n",
    "    w01 = (1-age_0)*met_0\n",
    "    w10 = age_0*(1-met_0)\n",
    "    w11 = age_0*met_0\n",
    "    \n",
    "    w00 = w00/diff_denom\n",
    "    w01 = w01/diff_denom\n",
    "    w10 = w10/diff_denom\n",
    "    w11 = w11/diff_denom\n",
    "    \n",
    "    spec_flux_i = (w00*spec_flux_00) + (w01*spec_flux_01) + (w10*spec_flux_10) + (w11*spec_flux_11)\n",
    "    \n",
    "    spec_flux_i_mass_weighted = mass_hydro_i*spec_flux_i\n",
    "    ## Not sure where 1e10 factor was from. Will ignore for now\n",
    "    \n",
    "    return spec_wave, spec_flux_i_mass_weighted"
   ]
  },
  {
   "cell_type": "code",
   "execution_count": null,
   "metadata": {},
   "outputs": [],
   "source": [
    "#| hide\n",
    "\n",
    "import matplotlib.pylab as plt\n",
    "from watercolor.load_sps_library import *\n",
    "from watercolor.load_sim_stellar_catalog import *"
   ]
  },
  {
   "cell_type": "code",
   "execution_count": null,
   "metadata": {},
   "outputs": [
    {
     "data": {
      "text/plain": [
       "Text(0.5, 0, 'age')"
      ]
     },
     "execution_count": null,
     "metadata": {},
     "output_type": "execute_result"
    },
    {
     "data": {
      "image/png": "[encoded data removed]",
      "text/plain": [
       "<Figure size 1008x216 with 2 Axes>"
      ]
     },
     "metadata": {
      "needs_background": "light"
     },
     "output_type": "display_data"
    }
   ],
   "source": [
    "#| hide\n",
    "\n",
    "spec_flux, spec_wave = load_fsps_spectral_library()\n",
    "\n",
    "age_fsps_gyr, Z_padova_fsps = load_fsps_age_metallicity()\n",
    "\n",
    "fof_halo_tag, if_satellite, gal_tag, stellar_idx, metal_hydro, mass, age_hydro, x, y, z, vx, vy, vz = load_hacc_galaxy_data()\n",
    "\n",
    "\n",
    "f, a = plt.subplots(1,2, figsize=(14, 3))\n",
    "a[0].hist(metal_hydro, bins = 100, histtype='step', lw=5, label='Z=0 hydro');\n",
    "[a[0].axvline(_x, linewidth=1, color='r', alpha=0.5) for _x in Z_padova_fsps];\n",
    "a[0].legend()\n",
    "a[0].set_xlabel('log(z/zsol)')\n",
    "\n",
    "\n",
    "a[1].hist(age_hydro, bins = 100, histtype='step', lw=5, label='Z=0 hydro');\n",
    "[a[1].axvline(_x, linewidth=1, color='r', alpha=0.5) for _x in age_fsps_gyr];\n",
    "a[1].legend()\n",
    "a[1].set_xlabel('age')\n",
    "\n",
    "# plt.savefig('Plots/metal_mass_dist_hydro.png')"
   ]
  },
  {
   "cell_type": "code",
   "execution_count": null,
   "metadata": {},
   "outputs": [],
   "source": [
    "#| hide\n",
    "\n",
    "ssp_id = 10\n",
    "\n",
    "spec_wave_ssp, spec_flux_ssp = spec_ssp_lookup(age_hydro[ssp_id], \n",
    "             metal_hydro[ssp_id], \n",
    "             mass[ssp_id],\n",
    "             age_fsps_gyr,\n",
    "             Z_padova_fsps,\n",
    "             spec_flux,\n",
    "             spec_wave)"
   ]
  },
  {
   "cell_type": "code",
   "execution_count": null,
   "metadata": {},
   "outputs": [
    {
     "data": {
      "text/plain": [
       "Text(0, 0.5, '$L_{\\\\rm CSP}(\\\\lambda)\\\\ {\\\\rm [L_{\\\\odot}/\\\\AA]}$')"
      ]
     },
     "execution_count": null,
     "metadata": {},
     "output_type": "execute_result"
    },
    {
     "data": {
      "image/png": "[encoded data removed]",
      "text/plain": [
       "<Figure size 432x288 with 1 Axes>"
      ]
     },
     "metadata": {
      "needs_background": "light"
     },
     "output_type": "display_data"
    }
   ],
   "source": [
    "#| hide\n",
    "\n",
    "plt.figure()\n",
    "plt.plot(spec_wave_ssp, spec_flux_ssp)\n",
    "plt.xscale('log')\n",
    "plt.yscale('log')\n",
    "plt.xlim(1e2, 1e4)\n",
    "plt.xlabel(r'${\\rm wavelength\\ [\\AA]}$', fontsize = 'x-large')\n",
    "plt.ylabel(r'$L_{\\rm CSP}(\\lambda)\\ {\\rm [L_{\\odot}/\\AA]}$', fontsize = 'x-large')"
   ]
  },
  {
   "cell_type": "code",
   "execution_count": null,
   "metadata": {},
   "outputs": [],
   "source": [
    "#| hide\n",
    "import nbdev; nbdev.nbdev_export()"
   ]
  },
  {
   "cell_type": "code",
   "execution_count": null,
   "metadata": {},
   "outputs": [],
   "source": []
  }
 ],
 "metadata": {
  "kernelspec": {
   "display_name": "python3",
   "language": "python",
   "name": "python3"
  }
 },
 "nbformat": 4,
 "nbformat_minor": 4
}
