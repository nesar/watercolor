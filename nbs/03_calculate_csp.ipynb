{
 "cells": [
  {
   "cell_type": "markdown",
   "metadata": {},
   "source": [
    "# Module: Compute CSF flux\n",
    "\n",
    "> Combining SSPs to get Composite Stellar Population (CSP)"
   ]
  },
  {
   "cell_type": "code",
   "execution_count": null,
   "metadata": {},
   "outputs": [],
   "source": [
    "#| default_exp calculate_csp"
   ]
  },
  {
   "cell_type": "code",
   "execution_count": null,
   "metadata": {},
   "outputs": [],
   "source": [
    "#| hide\n",
    "from nbdev.showdoc import *"
   ]
  },
  {
   "cell_type": "code",
   "execution_count": null,
   "metadata": {},
   "outputs": [],
   "source": [
    "#| export\n",
    "import numpy as np\n",
    "from watercolor.ssp_interpolation import spec_ssp_lookup\n",
    "\n",
    "from watercolor.load_sps_library import load_fsps_spectral_library, load_fsps_age_metallicity\n",
    "from watercolor.load_sps_library import LIBRARY_FLUX_FILE, LIBRARY_WAVE_FILE, LIBRARY_AGE_FILE, LIBRARY_METAL_FILE\n",
    "\n",
    "from watercolor.load_sim_stellar_catalog import load_hacc_galaxy_data\n",
    "from watercolor.load_sim_stellar_catalog import GALS_FILE\n",
    "from watercolor.load_sim_stellar_catalog import Z_SOLAR_PADOVA, H0"
   ]
  },
  {
   "cell_type": "code",
   "execution_count": null,
   "metadata": {},
   "outputs": [],
   "source": [
    "#| hide\n",
    "\n",
    "import matplotlib.pylab as plt"
   ]
  },
  {
   "cell_type": "code",
   "execution_count": null,
   "metadata": {},
   "outputs": [],
   "source": [
    "#| export\n",
    "\n",
    "def total_luminosity(spec_flux_ssp:np.ndarray, # SSP SEDs   \n",
    "                     spec_wave:np.array # SED Wavelength\n",
    "                    )-> np.float32: #Luminosity\n",
    "    flux_proxy = np.trapz(spec_flux_ssp, spec_wave, axis=1) \n",
    "    return flux_proxy\n",
    "\n",
    "\n",
    "def galaxy_stellar_mass(selected_star_masses:np.array #SSP masses in a galaxy\n",
    "                       )-> np.float32: # Total stellar mass of the galaxy\n",
    "    \n",
    "    gal_stellar_mass = np.sum(selected_star_masses)\n",
    "    return gal_stellar_mass\n",
    "\n",
    "\n",
    "def ssp_to_csp(spec_flux_ssp:np.ndarray # SSP SEDs\n",
    "              )-> np.array: #CSP SED\n",
    "    spec_csp = np.sum(spec_flux_ssp, axis=0) ## CSP\n",
    "    return spec_csp"
   ]
  },
  {
   "cell_type": "code",
   "execution_count": null,
   "metadata": {},
   "outputs": [],
   "source": [
    "#| export\n",
    "\n",
    "def calc_fluxes_for_galaxy(gal_file_in:str=GALS_FILE, # HACC stellar catalog\n",
    "                           unique_gal_tag:np.float32=None, # Selected galaxy tag\n",
    "                           spectral_library_flux:str=LIBRARY_FLUX_FILE, # Fluxes in the spectral library,\n",
    "                           spectral_library_wave:str=LIBRARY_WAVE_FILE, # Wavelengths in the spectral library,\n",
    "                           spectral_library_age:str=LIBRARY_AGE_FILE, # Age in the spectral library,\n",
    "                           spectral_library_metal:str=LIBRARY_METAL_FILE, # Metallicity in the spectral library,\n",
    "                          )->tuple: # SED wavelength (A), individual SSP SEDs (Lsun/A), CSP SED (Lsun/A), Luminosity, Galaxy stellar mass (Msun)  \n",
    "    \n",
    "    spec_flux_library, spec_wave_library = load_fsps_spectral_library(spectral_library_flux, spectral_library_wave)\n",
    "    age_fsps_gyr, Z_padova_fsps = load_fsps_age_metallicity(spectral_library_age, spectral_library_metal)\n",
    "    _, _, gal_tags, _, metal_hydro, mass, age_hydro, _, _, _, _, _, _ = load_hacc_galaxy_data(gal_file_in)\n",
    "\n",
    "\n",
    "    gal_tag_cond = np.where(gal_tags == unique_gal_tag)\n",
    "\n",
    "    spec_flux_ssp = np.zeros( shape=(gal_tag_cond[0].shape[0], spec_wave_library.shape[0]))\n",
    "\n",
    "    for idx, ssp_id in enumerate(gal_tag_cond[0]):    \n",
    "        spec_wave_ssp, spec_flux_ssp[idx] = spec_ssp_lookup(age_hydro[ssp_id], \n",
    "                                                            metal_hydro[ssp_id], \n",
    "                                                            mass[ssp_id],\n",
    "                                                            age_fsps_gyr,\n",
    "                                                            Z_padova_fsps,\n",
    "                                                            spec_flux_library,\n",
    "                                                            spec_wave_library)\n",
    "\n",
    "    spec_csp = ssp_to_csp(spec_flux_ssp)\n",
    "    flux_proxy = total_luminosity(spec_flux_ssp, spec_wave_library) \n",
    "    gal_stellar_mass = galaxy_stellar_mass(mass[gal_tag_cond])\n",
    "\n",
    "    return spec_wave_ssp, spec_flux_ssp, spec_csp, flux_proxy, gal_stellar_mass "
   ]
  },
  {
   "cell_type": "code",
   "execution_count": null,
   "metadata": {},
   "outputs": [],
   "source": [
    "#| hide\n",
    "\n",
    "fof_halo_tag, if_satellite, gal_tag, stellar_idx, metal_hydro, mass, age_hydro, x, y, z, vx, vy, vz = load_hacc_galaxy_data()\n"
   ]
  },
  {
   "cell_type": "code",
   "execution_count": null,
   "metadata": {},
   "outputs": [],
   "source": [
    "#| hide\n",
    "\n",
    "gal_id = 2\n",
    "unique_gal_tag = np.unique(gal_tag)[gal_id]\n",
    "\n",
    "spec_wave_ssp, spec_flux_ssp, spec_csp, flux_proxy, gal_stellar_mass = calc_fluxes_for_galaxy(\n",
    "    GALS_FILE, \n",
    "    unique_gal_tag,\n",
    "    LIBRARY_FLUX_FILE,\n",
    "    LIBRARY_WAVE_FILE,\n",
    "    LIBRARY_AGE_FILE,\n",
    "    LIBRARY_METAL_FILE)"
   ]
  },
  {
   "cell_type": "code",
   "execution_count": null,
   "metadata": {},
   "outputs": [
    {
     "data": {
      "text/plain": [
       "Text(0, 0.5, '$L_{\\\\rm CSP}(\\\\lambda)\\\\ {\\\\rm [L_{\\\\odot}/\\\\AA]}$')"
      ]
     },
     "execution_count": null,
     "metadata": {},
     "output_type": "execute_result"
    },
    {
     "data": {
      "image/png": "[encoded data removed]",
      "text/plain": [
       "<Figure size 432x288 with 1 Axes>"
      ]
     },
     "metadata": {
      "needs_background": "light"
     },
     "output_type": "display_data"
    }
   ],
   "source": [
    "#| hide\n",
    "\n",
    "plt.figure()\n",
    "plt.plot(spec_wave_ssp, spec_flux_ssp.T, '-.')\n",
    "plt.plot(spec_wave_ssp, spec_csp)\n",
    "plt.xscale('log')\n",
    "plt.yscale('log')\n",
    "plt.xlim(1e2, 1e3)\n",
    "plt.xlabel(r'${\\rm wavelength\\ [\\AA]}$', fontsize = 'x-large')\n",
    "plt.ylabel(r'$L_{\\rm CSP}(\\lambda)\\ {\\rm [L_{\\odot}/\\AA]}$', fontsize = 'x-large')"
   ]
  },
  {
   "cell_type": "code",
   "execution_count": null,
   "metadata": {},
   "outputs": [],
   "source": []
  },
  {
   "cell_type": "code",
   "execution_count": null,
   "metadata": {},
   "outputs": [],
   "source": [
    "#| hide\n",
    "import nbdev; nbdev.nbdev_export()"
   ]
  },
  {
   "cell_type": "code",
   "execution_count": null,
   "metadata": {},
   "outputs": [],
   "source": []
  }
 ],
 "metadata": {
  "kernelspec": {
   "display_name": "python3",
   "language": "python",
   "name": "python3"
  }
 },
 "nbformat": 4,
 "nbformat_minor": 4
}
