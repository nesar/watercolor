{
 "cells": [
  {
   "cell_type": "markdown",
   "metadata": {},
   "source": [
    "# Module: Loading spectral library\n",
    "\n",
    "> Loading simple stellar population (SSP) flux lines. Also loading the metallicity and age grids that the flux lines are computed on. "
   ]
  },
  {
   "cell_type": "code",
   "execution_count": null,
   "metadata": {},
   "outputs": [],
   "source": [
    "#| default_exp load_sps_library"
   ]
  },
  {
   "cell_type": "code",
   "execution_count": null,
   "metadata": {},
   "outputs": [],
   "source": [
    "#| hide\n",
    "from nbdev.showdoc import *"
   ]
  },
  {
   "cell_type": "code",
   "execution_count": null,
   "metadata": {},
   "outputs": [],
   "source": [
    "#| export\n",
    "import numpy as np\n",
    "import os\n",
    "import matplotlib.pylab as plt\n",
    "from watercolor.load_sim_stellar_catalog import Z_SOLAR_PADOVA, H0"
   ]
  },
  {
   "cell_type": "code",
   "execution_count": null,
   "metadata": {},
   "outputs": [
    {
     "ename": "NameError",
     "evalue": "name '__file__' is not defined",
     "output_type": "error",
     "traceback": [
      "\u001b[0;31m---------------------------------------------------------------------------\u001b[0m",
      "\u001b[0;31mNameError\u001b[0m                                 Traceback (most recent call last)",
      "Input \u001b[0;32mIn [4]\u001b[0m, in \u001b[0;36m<cell line: 3>\u001b[0;34m()\u001b[0m\n\u001b[1;32m      1\u001b[0m \u001b[38;5;66;03m#| export\u001b[39;00m\n\u001b[0;32m----> 3\u001b[0m _THIS_DRNAME \u001b[38;5;241m=\u001b[39m os\u001b[38;5;241m.\u001b[39mpath\u001b[38;5;241m.\u001b[39mdirname(os\u001b[38;5;241m.\u001b[39mpath\u001b[38;5;241m.\u001b[39mabspath(\u001b[38;5;18;43m__file__\u001b[39;49m))\n\u001b[1;32m      4\u001b[0m \u001b[38;5;66;03m# os.path.join(_THIS_DRNAME, \"models\", GPmodelname)\u001b[39;00m\n\u001b[1;32m      6\u001b[0m STELLAR_LIBRARY_DIR \u001b[38;5;241m=\u001b[39m \u001b[38;5;124m'\u001b[39m\u001b[38;5;124m../watercolor/data/sps_library_data/\u001b[39m\u001b[38;5;124m'\u001b[39m\n",
      "\u001b[0;31mNameError\u001b[0m: name '__file__' is not defined"
     ]
    }
   ],
   "source": [
    "#| export\n",
    "\n",
    "# _THIS_DRNAME = os.path.dirname(os.path.abspath(__file__))\n",
    "# os.path.join(_THIS_DRNAME, \"models\", GPmodelname)\n",
    "\n",
    "STELLAR_LIBRARY_DIR = '../watercolor/data/sps_library_data/'"
   ]
  },
  {
   "cell_type": "code",
   "execution_count": null,
   "metadata": {},
   "outputs": [],
   "source": [
    "#| export\n",
    "def load_fsps_spectral_library(dirIn:str=STELLAR_LIBRARY_DIR # Input directory of the stellar spectra library \n",
    "                              ) -> tuple: #Fluxes, wavelengths \n",
    "    spec_flux = np.load(os.path.join(dirIn, \"ssp_spec_flux_lines.npy\"))\n",
    "    spec_wave = np.load(os.path.join(dirIn, \"ssp_spec_wave.npy\"))\n",
    "    print('Library shape: ', spec_flux.shape) \n",
    "    print('Wavelength shape: ', spec_wave.shape)\n",
    "    return spec_flux, spec_wave"
   ]
  },
  {
   "cell_type": "code",
   "execution_count": null,
   "metadata": {},
   "outputs": [],
   "source": [
    "#| export\n",
    "def _load_fsps_age(dirIn:str=STELLAR_LIBRARY_DIR # Input directory of the stellar spectra library \n",
    "                  )-> np.array: # Age in Gyr\n",
    "    log_age_gyr = np.load(os.path.join(dirIn, \"log_age.npy\")) - 9\n",
    "    age_fsps_gyr = 10**log_age_gyr\n",
    "    ## (age is in 1/H0 units)\n",
    "    return age_fsps_gyr"
   ]
  },
  {
   "cell_type": "code",
   "execution_count": null,
   "metadata": {},
   "outputs": [],
   "source": [
    "#| export\n",
    "def _load_fsps_metallicity(dirIn:str=STELLAR_LIBRARY_DIR, # Input directory of the stellar spectra library\n",
    "                           Z_solar:np.float32=Z_SOLAR_PADOVA # Solar metallicity in Padova\n",
    "                          ) -> np.array: #Metallicity values in Z/Z_solar units\n",
    "    Z_legend = np.load(os.path.join(dirIn, \"zlegend.npy\"))\n",
    "    Z_padova_fsps = Z_legend/Z_solar\n",
    "    return Z_padova_fsps"
   ]
  },
  {
   "cell_type": "code",
   "execution_count": null,
   "metadata": {},
   "outputs": [],
   "source": [
    "#| export\n",
    "def load_fsps_age_metallicity(dirIn:str=STELLAR_LIBRARY_DIR,\n",
    "                              Z_solar:np.float32=Z_SOLAR_PADOVA # Solar metallicity in Padova\n",
    "                             )-> tuple: # Age in Gyr, Metallicity in Z/Z_sun\n",
    "    \n",
    "    age_fsps_gyr = _load_fsps_age(dirIn)\n",
    "    \n",
    "    Z_padova = _load_fsps_metallicity(dirIn, Z_solar)\n",
    "    \n",
    "    return age_fsps_gyr, Z_padova"
   ]
  },
  {
   "cell_type": "code",
   "execution_count": null,
   "metadata": {},
   "outputs": [],
   "source": [
    "#| hide\n",
    "\n",
    "spec_flux, spec_wave = load_fsps_spectral_library()\n",
    "\n",
    "age_fsps_gyr, Z_padova = load_fsps_age_metallicity()\n",
    "\n",
    "plt.figure(figsize=(8, 6))\n",
    "\n",
    "for ind0 in range(Z_padova.shape[0]):\n",
    "    plt.plot(spec_wave, spec_flux[ind0, 70])\n",
    "plt.xscale('log')\n",
    "plt.yscale('log')\n",
    "plt.title('SSP flux lines: changing metallicity \\n Lookup table')\n",
    "\n",
    "plt.show()"
   ]
  },
  {
   "cell_type": "code",
   "execution_count": null,
   "metadata": {},
   "outputs": [],
   "source": [
    "#| hide\n",
    "\n",
    "plt.figure(figsize=(8, 6))\n",
    "\n",
    "for ind1 in range(10, 40):\n",
    "    plt.plot(spec_wave, spec_flux[20, ind1])\n",
    "plt.xscale('log')\n",
    "plt.yscale('log')\n",
    "plt.title('SSP flux lines: changing stellar age \\n Lookup table')\n",
    "\n",
    "\n",
    "plt.show()"
   ]
  },
  {
   "cell_type": "code",
   "execution_count": null,
   "metadata": {},
   "outputs": [],
   "source": [
    "#| hide\n",
    "import nbdev; nbdev.nbdev_export()"
   ]
  }
 ],
 "metadata": {
  "kernelspec": {
   "display_name": "python3",
   "language": "python",
   "name": "python3"
  }
 },
 "nbformat": 4,
 "nbformat_minor": 4
}
