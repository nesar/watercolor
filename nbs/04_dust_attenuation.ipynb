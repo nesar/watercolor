{
 "cells": [
  {
   "cell_type": "markdown",
   "metadata": {},
   "source": [
    "# Module: Dust attenuation\n",
    "\n",
    "> Adding dust attenuation based on DustE modelling"
   ]
  },
  {
   "cell_type": "code",
   "execution_count": null,
   "metadata": {},
   "outputs": [],
   "source": [
    "#| default_exp dust_attenuation"
   ]
  },
  {
   "cell_type": "code",
   "execution_count": null,
   "metadata": {},
   "outputs": [],
   "source": [
    "#| hide\n",
    "from nbdev.showdoc import *"
   ]
  },
  {
   "cell_type": "code",
   "execution_count": null,
   "metadata": {},
   "outputs": [],
   "source": [
    "#| hide\n",
    "import matplotlib.pylab as plt\n",
    "import astropy.units as u\n",
    "from astropy.cosmology import Planck13, z_at_value"
   ]
  },
  {
   "cell_type": "code",
   "execution_count": null,
   "metadata": {},
   "outputs": [],
   "source": [
    "#| export\n",
    "import numpy as np\n",
    "from watercolor.load_sim_stellar_catalog import load_hacc_galaxy_data\n",
    "from watercolor.calculate_csp import calc_fluxes_for_galaxy\n",
    "from watercolor.load_sim_stellar_catalog import GALS_FILE\n",
    "from watercolor.load_sps_library import LIBRARY_FLUX_FILE, LIBRARY_WAVE_FILE, LIBRARY_AGE_FILE, LIBRARY_METAL_FILE"
   ]
  },
  {
   "cell_type": "code",
   "execution_count": null,
   "metadata": {},
   "outputs": [],
   "source": [
    "#| export\n",
    "\n",
    "import sys\n",
    "import os\n",
    "from duste.DustAttnCalc import DustAttnCalc # https://github.com/Astropianist/DustE\n",
    "from io import StringIO\n",
    "from contextlib import contextmanager"
   ]
  },
  {
   "cell_type": "code",
   "execution_count": null,
   "metadata": {},
   "outputs": [],
   "source": [
    "#| hide \n",
    "fof_halo_tag, if_satellite, galaxy_tags, stellar_idx, metal_hydro, mass, age_hydro, _, _, _, _, _, _ = load_hacc_galaxy_data(GALS_FILE)"
   ]
  },
  {
   "cell_type": "code",
   "execution_count": null,
   "metadata": {},
   "outputs": [],
   "source": [
    "#| hide \n",
    "\n",
    "galaxy_number = 4\n",
    "unique_galaxy_tag = np.unique(galaxy_tags)[galaxy_number]\n",
    "\n",
    "spec_wave_ssp, spec_flux_ssp, spec_csp, flux_proxy, gal_stellar_mass = calc_fluxes_for_galaxy(GALS_FILE,\n",
    "                                                                                              unique_galaxy_tag,\n",
    "                                                                                              LIBRARY_FLUX_FILE,\n",
    "                                                                                              LIBRARY_WAVE_FILE,\n",
    "                                                                                              LIBRARY_AGE_FILE,\n",
    "                                                                                              LIBRARY_METAL_FILE)"
   ]
  },
  {
   "cell_type": "code",
   "execution_count": null,
   "metadata": {},
   "outputs": [
    {
     "data": {
      "text/latex": [
       "$3.1981206 \\; \\mathrm{}$"
      ],
      "text/plain": [
       "<Quantity 3.19812061 redshift>"
      ]
     },
     "execution_count": null,
     "metadata": {},
     "output_type": "execute_result"
    }
   ],
   "source": [
    "#| hide\n",
    "z_at_value(Planck13.age, 2 * u.Gyr) "
   ]
  },
  {
   "cell_type": "code",
   "execution_count": null,
   "metadata": {},
   "outputs": [
    {
     "data": {
      "image/png": "[encoded data removed]",
      "text/plain": [
       "<Figure size 432x288 with 1 Axes>"
      ]
     },
     "metadata": {
      "needs_background": "light"
     },
     "output_type": "display_data"
    }
   ],
   "source": [
    "#| hide\n",
    "\n",
    "plt.hist(age_hydro[galaxy_tags == unique_galaxy_tag], bins=10);"
   ]
  },
  {
   "cell_type": "code",
   "execution_count": null,
   "metadata": {},
   "outputs": [],
   "source": [
    "#| export\n",
    "\n",
    "# # Disable\n",
    "# def blockPrint():\n",
    "#     sys._jupyter_stdout = sys.stdout\n",
    "#     sys.stdout = open(os.devnull, 'w')\n",
    "\n",
    "# # Restore\n",
    "# def enablePrint():\n",
    "#     sys._jupyter_stdout = sys.stdout\n",
    "#     sys.stdout = sys.__stdout__\n",
    "\n",
    "\n",
    "@contextmanager\n",
    "def hidden_prints(\n",
    "                ): #Utility function to hide the print statements from duste\n",
    "    original_stdout = sys.stdout\n",
    "    sys.stdout = StringIO()\n",
    "    yield\n",
    "    sys.stdout = original_stdout\n",
    "    \n",
    "\n",
    "def spectrum_dusted(pcolor:np.array=None, # SED without dust attenuation\n",
    "                  wave:np.array=None, # Wavelength in Angstorms\n",
    "                  logmstar:np.float32=None, # Log(stellar mass) of the galaxy\n",
    "                  metal:np.float32=None, # log(metallicity) of the galaxy\n",
    "                  galaxy_redshift:np.float32=None # Redshift of the galaxy\n",
    "                  )-> np.array: # Dust attenuated SED\n",
    "     \n",
    "    # blockPrint()\n",
    "    \n",
    "    with hidden_prints():\n",
    "    \n",
    "        dust_attn = DustAttnCalc(logM=logmstar, \n",
    "                                 # sfr=SFRz, \n",
    "                                 logZ=metal, \n",
    "                                 z = galaxy_redshift, \n",
    "                                 bv=1, \n",
    "                                 eff=0, \n",
    "                                 wv_arr=wave); # Two-component bivariate dust model (fitting both optical depth and slope) \n",
    "\n",
    "        dac, dac1, n, tau, tau1, n_err, tau_err, tau1_err = dust_attn.calcDust(plot_tau=False, max_num_plot=2);\n",
    "    \n",
    "    dac_avg, dac1_avg = np.average(dac, axis=0), np.average(dac1, axis=0)\n",
    "    dust_ext_fac0 = np.exp(-1*dac_avg)*np.exp(-1*dac1_avg) #correct\n",
    "    pcolor_attn = pcolor*dust_ext_fac0[0, :];\n",
    "    \n",
    "    # enablePrint()\n",
    "    \n",
    "    return pcolor_attn\n",
    "\n",
    "\n",
    "\n",
    "def log_total_stellar_metal(stellar_metal_i:np.array=None, # Array with individual stellar metallicities of the star particles\n",
    "                       stellar_mass_i:np.array=None, # Array with individual stellar masses of the star particles\n",
    "                      )-> np.float32: # Total stellar metallicity of the galaxy\n",
    "    \n",
    "    total_stellar_mass = np.sum(stellar_mass_i)\n",
    "    weighted_metal = np.sum(stellar_mass_i*stellar_metal_i)\n",
    "    weighted_sum_metal = weighted_metal/total_stellar_mass\n",
    "    return np.array([np.log10(weighted_sum_metal)])\n",
    "\n",
    "def log_total_stellar_mass(stellar_mass_i:np.array=None, # Array with individual stellar masses of the star particles\n",
    "                      )-> np.float32: # Total stellar mass of the galaxy\n",
    "    total_stellar_mass = np.sum(stellar_mass_i)\n",
    "    return np.array([np.log10(total_stellar_mass)])"
   ]
  },
  {
   "cell_type": "code",
   "execution_count": null,
   "metadata": {},
   "outputs": [],
   "source": [
    "#| hide\n",
    "\n",
    "\n",
    "\n",
    "# logmstar = np.array([np.log10( np.sum(mass[galaxy_tags == unique_galaxy_tag]))])\n",
    "# logZ = np.array([np.mean(metal_hydro[galaxy_tags == unique_galaxy_tag])])\n",
    "\n",
    "\n",
    "mstar_i = mass[galaxy_tags == unique_galaxy_tag]\n",
    "metal_i = metal_hydro[galaxy_tags == unique_galaxy_tag]\n",
    "\n",
    "logZ = log_total_stellar_metal(metal_i, mstar_i)\n",
    "logmstar = log_total_stellar_mass(mstar_i)\n",
    "\n",
    "\n",
    "spec_wave_csp_dusted = spectrum_dusted(spec_csp, spec_wave_ssp, logmstar, logZ, 0.001)"
   ]
  },
  {
   "cell_type": "code",
   "execution_count": null,
   "metadata": {},
   "outputs": [
    {
     "data": {
      "text/plain": [
       "<matplotlib.legend.Legend>"
      ]
     },
     "execution_count": null,
     "metadata": {},
     "output_type": "execute_result"
    },
    {
     "data": {
      "image/png": "[encoded data removed]",
      "text/plain": [
       "<Figure size 864x216 with 1 Axes>"
      ]
     },
     "metadata": {
      "needs_background": "light"
     },
     "output_type": "display_data"
    }
   ],
   "source": [
    "#| hide \n",
    "\n",
    "f, a = plt.subplots(1, 1, figsize=(12, 3))\n",
    "a.plot(spec_wave_ssp, spec_csp, label='No dust')\n",
    "a.plot(spec_wave_ssp, spec_wave_csp_dusted, label='With dust attenuation')\n",
    "\n",
    "\n",
    "\n",
    "a.set_xlim(3e3, 1e4)\n",
    "\n",
    "a.set_xlabel(r'${\\rm wavelength\\ [\\AA]}$', fontsize = 'x-large')\n",
    "a.set_ylabel(r'$L_{\\rm CSP}(\\lambda)\\ {\\rm [L_{\\odot}/\\AA]}$', fontsize = 'x-large')\n",
    "a.legend(fontsize='x-large')"
   ]
  },
  {
   "cell_type": "code",
   "execution_count": null,
   "metadata": {},
   "outputs": [],
   "source": []
  },
  {
   "cell_type": "code",
   "execution_count": null,
   "metadata": {},
   "outputs": [
    {
     "name": "stdout",
     "output_type": "stream",
     "text": [
      "[9.45305866] [-1.61214235]\n",
      "[9.48274661] [-1.56558937]\n",
      "[9.28027298] [-1.49156686]\n",
      "[10.81558224] [-0.96863435]\n",
      "[10.51728804] [-1.08748047]\n",
      "[9.57835839] [-1.61712595]\n",
      "[9.55768592] [-1.66959933]\n",
      "[10.19415785] [-1.43520877]\n",
      "[10.75407759] [-0.96404706]\n",
      "[10.13143665] [-1.27303116]\n"
     ]
    }
   ],
   "source": [
    "#| hide\n",
    "\n",
    "# logM = np.random.uniform(8.74,11.30,ngal)\n",
    "# sfr = np.random.uniform(-2.06,2.11,ngal)\n",
    "# logZ = np.random.uniform(-1.70,0.18,ngal)\n",
    "\n",
    "for galaxy_number in range(10):\n",
    "    \n",
    "    unique_galaxy_tag = np.unique(galaxy_tags)[galaxy_number]\n",
    "    mstar_i = mass[galaxy_tags == unique_galaxy_tag]\n",
    "    metal_i = metal_hydro[galaxy_tags == unique_galaxy_tag]\n",
    "\n",
    "    logZ = log_total_stellar_metal(metal_i, mstar_i)\n",
    "    logmstar = log_total_stellar_mass(mstar_i)\n",
    "    \n",
    "    print(logmstar, logZ)"
   ]
  },
  {
   "cell_type": "code",
   "execution_count": null,
   "metadata": {},
   "outputs": [],
   "source": []
  },
  {
   "cell_type": "code",
   "execution_count": null,
   "metadata": {},
   "outputs": [],
   "source": []
  },
  {
   "cell_type": "code",
   "execution_count": null,
   "metadata": {},
   "outputs": [],
   "source": [
    "#| hide\n",
    "import nbdev; nbdev.nbdev_export()"
   ]
  },
  {
   "cell_type": "code",
   "execution_count": null,
   "metadata": {},
   "outputs": [],
   "source": []
  }
 ],
 "metadata": {
  "kernelspec": {
   "display_name": "python3",
   "language": "python",
   "name": "python3"
  }
 },
 "nbformat": 4,
 "nbformat_minor": 4
}
