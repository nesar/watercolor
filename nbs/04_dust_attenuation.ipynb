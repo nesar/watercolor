{
 "cells": [
  {
   "cell_type": "markdown",
   "metadata": {},
   "source": [
    "# Module: Dust attenuation\n",
    "\n",
    "> Adding dust attenuation based on DustE modelling"
   ]
  },
  {
   "cell_type": "code",
   "execution_count": null,
   "metadata": {},
   "outputs": [],
   "source": [
    "#| default_exp dust_attenuation"
   ]
  },
  {
   "cell_type": "code",
   "execution_count": null,
   "metadata": {},
   "outputs": [],
   "source": [
    "#| hide\n",
    "from nbdev.showdoc import *"
   ]
  },
  {
   "cell_type": "code",
   "execution_count": null,
   "metadata": {},
   "outputs": [],
   "source": [
    "#| export\n",
    "import numpy as np"
   ]
  },
  {
   "cell_type": "code",
   "execution_count": null,
   "metadata": {},
   "outputs": [],
   "source": [
    "#| hide\n",
    "import matplotlib.pylab as plt"
   ]
  },
  {
   "cell_type": "code",
   "execution_count": null,
   "metadata": {},
   "outputs": [],
   "source": [
    "#| export\n",
    "from watercolor.load_sim_stellar_catalog import load_hacc_galaxy_data\n",
    "from watercolor.calculate_csp import calc_fluxes_for_galaxy\n",
    "from watercolor.load_sps_library import STELLAR_LIBRARY_DIR"
   ]
  },
  {
   "cell_type": "code",
   "execution_count": null,
   "metadata": {},
   "outputs": [],
   "source": [
    "#| hide \n",
    "galaxy_star_catalog_file = '../watercolor/data/test_hacc_stellar_catalog/Gals_Z0.txt'\n",
    "galaxy_tags, stellar_idx, metal_hydro, mass, age_hydro, _, _, _, _, _, _ = load_hacc_galaxy_data(galaxy_star_catalog_file)"
   ]
  },
  {
   "cell_type": "code",
   "execution_count": null,
   "metadata": {},
   "outputs": [
    {
     "name": "stdout",
     "output_type": "stream",
     "text": [
      "Library shape:  (22, 94, 1963)\n",
      "Wavelength shape:  (1963,)\n"
     ]
    }
   ],
   "source": [
    "#| hide \n",
    "\n",
    "galaxy_number = 4\n",
    "unique_galaxy_tag = np.unique(galaxy_tags)[galaxy_number]\n",
    "\n",
    "spec_wave_ssp, spec_flux_ssp, spec_csp, flux_proxy, gal_stellar_mass = calc_fluxes_for_galaxy(galaxy_star_catalog_file,\n",
    "                                                                                                               unique_galaxy_tag,\n",
    "                                                                                                               STELLAR_LIBRARY_DIR)"
   ]
  },
  {
   "cell_type": "code",
   "execution_count": null,
   "metadata": {},
   "outputs": [],
   "source": [
    "#| export\n",
    "\n",
    "import sys\n",
    "import os\n",
    "from duste.DustAttnCalc import DustAttnCalc # https://github.com/Astropianist/DustE"
   ]
  },
  {
   "cell_type": "code",
   "execution_count": null,
   "metadata": {},
   "outputs": [
    {
     "data": {
      "text/latex": [
       "$3.1981206 \\; \\mathrm{}$"
      ],
      "text/plain": [
       "<Quantity 3.19812061 redshift>"
      ]
     },
     "execution_count": null,
     "metadata": {},
     "output_type": "execute_result"
    }
   ],
   "source": [
    "#| hide\n",
    "\n",
    "import astropy.units as u\n",
    "from astropy.cosmology import Planck13, z_at_value\n",
    "z_at_value(Planck13.age, 2 * u.Gyr) "
   ]
  },
  {
   "cell_type": "code",
   "execution_count": null,
   "metadata": {},
   "outputs": [
    {
     "data": {
      "image/png": "[encoded data removed]",
      "text/plain": [
       "<Figure size 432x288 with 1 Axes>"
      ]
     },
     "metadata": {
      "needs_background": "light"
     },
     "output_type": "display_data"
    }
   ],
   "source": [
    "#| hide\n",
    "\n",
    "plt.hist(age_hydro[galaxy_tags == unique_galaxy_tag], bins=10);"
   ]
  },
  {
   "cell_type": "code",
   "execution_count": null,
   "metadata": {},
   "outputs": [],
   "source": [
    "#| hide\n",
    "\n",
    "# Disable\n",
    "def blockPrint():\n",
    "    sys._jupyter_stdout = sys.stdout\n",
    "    sys.stdout = open(os.devnull, 'w')\n",
    "\n",
    "# Restore\n",
    "def enablePrint():\n",
    "    sys._jupyter_stdout = sys.stdout\n",
    "    sys.stdout = sys.__stdout__\n",
    "\n",
    "\n",
    "def colors_dusted(pcolor, \n",
    "                  wave, \n",
    "                  logmstar, \n",
    "                  metal, \n",
    "                  redshift\n",
    "                  ):\n",
    "     \n",
    "    blockPrint()\n",
    "    \n",
    "    dust_attn = DustAttnCalc(logM=logmstar, \n",
    "                             # sfr=SFRz, \n",
    "                             logZ=metal, \n",
    "                             z = redshift, \n",
    "                             bv=1, \n",
    "                             eff=0, \n",
    "                             wv_arr=wave); # Two-component bivariate dust model (fitting both optical depth and slope) \n",
    "\n",
    "    dac, dac1, n, tau, tau1, n_err, tau_err, tau1_err = dust_attn.calcDust(plot_tau=False, max_num_plot=2);\n",
    "    dac_avg, dac1_avg = np.average(dac, axis=0), np.average(dac1, axis=0)\n",
    "    dust_ext_fac0 = np.exp(-1*dac_avg)*np.exp(-1*dac1_avg) #correct\n",
    "    pcolor_attn = pcolor*dust_ext_fac0[0, :];\n",
    "    \n",
    "    enablePrint()\n",
    "    return pcolor_attn\n",
    "    "
   ]
  },
  {
   "cell_type": "code",
   "execution_count": null,
   "metadata": {},
   "outputs": [],
   "source": [
    "#| hide\n",
    "\n",
    "logmstar = np.array([np.log10( np.sum(mass[galaxy_tags == unique_galaxy_tag]))])\n",
    "logZ = np.array([np.sum(metal_hydro[galaxy_tags == unique_galaxy_tag])])\n",
    "\n",
    "\n",
    "spec_wave_csp_dusted = colors_dusted(spec_csp, spec_wave_ssp, logmstar, logZ, 0.001)"
   ]
  },
  {
   "cell_type": "code",
   "execution_count": null,
   "metadata": {},
   "outputs": [],
   "source": [
    "#| hide \n",
    "\n",
    "f, a = plt.subplots(1, 1, figsize=(12, 3))\n",
    "a.plot(spec_wave_ssp, spec_csp, label='No dust')\n",
    "a.plot(spec_wave_ssp, spec_wave_csp_dusted, label='With dust attenuation')\n",
    "\n",
    "\n",
    "\n",
    "a.set_xlim(3e3, 1e4)\n",
    "\n",
    "a.set_xlabel(r'${\\rm wavelength\\ [\\AA]}$', fontsize = 'x-large')\n",
    "a.set_ylabel(r'$L_{\\rm CSP}(\\lambda)\\ {\\rm [L_{\\odot}/\\AA]}$', fontsize = 'x-large')\n",
    "a.legend(fontsize='x-large')"
   ]
  },
  {
   "cell_type": "code",
   "execution_count": null,
   "metadata": {},
   "outputs": [],
   "source": [
    "#| hide\n",
    "import nbdev; nbdev.nbdev_export()"
   ]
  },
  {
   "cell_type": "code",
   "execution_count": null,
   "metadata": {},
   "outputs": [],
   "source": []
  }
 ],
 "metadata": {
  "kernelspec": {
   "display_name": "python3",
   "language": "python",
   "name": "python3"
  }
 },
 "nbformat": 4,
 "nbformat_minor": 4
}
