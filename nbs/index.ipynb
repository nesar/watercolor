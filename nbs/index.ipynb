{
 "cells": [
  {
   "cell_type": "code",
   "execution_count": null,
   "metadata": {},
   "outputs": [],
   "source": [
    "#| hide\n",
    "import matplotlib.pylab as plt\n",
    "import numpy as np\n",
    "import matplotlib as mpl\n",
    "from scipy import stats"
   ]
  },
  {
   "cell_type": "markdown",
   "metadata": {},
   "source": [
    "# WATERCOLOR\n",
    "\n",
    "> Painting Hydro simulations using Spectral Population Synthesis"
   ]
  },
  {
   "cell_type": "markdown",
   "metadata": {},
   "source": [
    "## Installation"
   ]
  },
  {
   "cell_type": "markdown",
   "metadata": {},
   "source": [
    "Temporary installation: \n",
    "```sh\n",
    "pip install git+https://github.com/nesar/watercolor.git\n",
    "```\n",
    "Future:\n",
    "```sh\n",
    "pip install watercolor\n",
    "```"
   ]
  },
  {
   "cell_type": "markdown",
   "metadata": {},
   "source": [
    "## Simple implementation"
   ]
  },
  {
   "cell_type": "code",
   "execution_count": null,
   "metadata": {},
   "outputs": [],
   "source": [
    "from watercolor.paint import photometry_from_catalog"
   ]
  },
  {
   "cell_type": "markdown",
   "metadata": {},
   "source": [
    "#### First we load the galaxy catalog. The main physical quantities required for painting the colors are the metallicities, stellar mass and age of the star particles of a galaxy. "
   ]
  },
  {
   "cell_type": "code",
   "execution_count": null,
   "metadata": {},
   "outputs": [
    {
     "name": "stdout",
     "output_type": "stream",
     "text": [
      "Number of galaxies: 200\n"
     ]
    }
   ],
   "source": [
    "galaxy_star_catalog_file='../watercolor/data/test_hacc_stellar_catalog/Gal_z0_hbin.txt' # HACC galaxy catalog\n",
    "final_sed_mJy, final_wave_um, lsst_mags, spherex_mags, cosmos_mags = photometry_from_catalog(galaxy_star_catalog_file)"
   ]
  },
  {
   "cell_type": "markdown",
   "metadata": {},
   "source": [
    "#### The single-line command provides the SEDs and magnitudes from LSST, SPHEREx and COSMOS filters"
   ]
  },
  {
   "cell_type": "code",
   "execution_count": null,
   "metadata": {},
   "outputs": [],
   "source": [
    "# Plotting SEDs and LSST colors\n",
    "f, ax = plt.subplots(1, 3, figsize=(16, 3.5), gridspec_kw={'width_ratios': [2, 1, 1]})\n",
    "\n",
    "ax[0].set_title('Spectral Energy Distribution')\n",
    "ax[1].set_title('Color-Color plot (LSST bandpass)')\n",
    "ax[2].set_title('Color-Mag plot (LSST bandpass)')\n",
    "\n",
    "\n",
    "np.random.seed(2)\n",
    "for gal_id in np.random.randint(0, final_sed_mJy.shape[0], 12):\n",
    "    ax[0].plot(final_wave_um[gal_id], final_sed_mJy[gal_id], label=str(gal_id), alpha=0.94)\n",
    "\n",
    "ax[0].set_xlim(0.09, 3.2)\n",
    "ax[0].set_ylim(1e-10, 1e2)\n",
    "ax[0].set_xscale('log')\n",
    "ax[0].set_yscale('log')\n",
    "\n",
    "ax[0].set_xlabel(r'${\\rm um}$', fontsize = 'x-large')\n",
    "ax[0].set_ylabel(r'${\\rm mJy}}$', fontsize = 'x-large')\n",
    "# ax[0].legend(fontsize='x-large', ncol=3, title='Galaxy number')\n",
    "    \n",
    "u, g, r, i, z, Y = lsst_mags.T\n",
    "\n",
    "ax[1].scatter(u-g, r-i, c=Y)\n",
    "ax[1].set_xlabel(r'${\\rm (u-g)}$', fontsize = 'x-large')\n",
    "ax[1].set_ylabel(r'${\\rm (r-i)}$', fontsize = 'x-large')\n",
    "\n",
    "ax[2].scatter(i, g-r, c=u)\n",
    "ax[2].set_xlabel(r'${\\rm (i)}$', fontsize = 'x-large')\n",
    "ax[2].set_ylabel(r'${\\rm (g-r)}$', fontsize = 'x-large')\n",
    "# ax[2].axhline(y=1.3, color='red')\n",
    "# ax[2].axhline(y=0.1, color='blue')\n",
    "ax[2].fill_between( np.linspace(0.9*i.min(), 1.1*i.max(), 100), 1.3, 2.0,  facecolor='red', alpha=0.2, interpolate=True)\n",
    "ax[2].fill_between( np.linspace(0.9*i.min(), 1.1*i.max(), 100), -0.2, 0.1,  facecolor='blue', alpha=0.2, interpolate=True)\n",
    "\n",
    "plt.show()"
   ]
  },
  {
   "cell_type": "code",
   "execution_count": null,
   "metadata": {},
   "outputs": [],
   "source": [
    "#| hide\n",
    "\n",
    "import pandas as pd\n",
    "import seaborn as sns\n",
    "import matplotlib as mpl\n",
    "from getdist import plots, MCSamples\n",
    "import matplotlib.colors as mcolors\n",
    "import matplotlib.cm as cm"
   ]
  },
  {
   "cell_type": "code",
   "execution_count": null,
   "metadata": {},
   "outputs": [],
   "source": [
    "#| hide\n",
    "\n",
    "## Checking the same galaxies at different redshifts\n",
    "\n",
    "# galaxy_star_catalog_file0='../watercolor/data/test_hacc_stellar_catalog/Z_0New.txt' # HACC galaxy catalog\n",
    "# _, _, lsst_mags_0, spherex_mags_0, cosmos_mags_0 = photometry_from_catalog(galaxy_star_catalog_file0)"
   ]
  },
  {
   "cell_type": "code",
   "execution_count": null,
   "metadata": {},
   "outputs": [],
   "source": [
    "#| hide\n",
    "\n",
    "# galaxy_star_catalog_file02='../watercolor/data/test_hacc_stellar_catalog/Z_02New.txt' # HACC galaxy catalog\n",
    "# _, _, lsst_mags_02, spherex_mags_02, cosmos_mags_02 = photometry_from_catalog(galaxy_star_catalog_file02)"
   ]
  },
  {
   "cell_type": "code",
   "execution_count": null,
   "metadata": {},
   "outputs": [],
   "source": [
    "#| hide\n",
    "\n",
    "dirIn = '/lcrc/project/cosmo_ai/nramachandra/Projects/SPHEREx/MAH/HACCnPaint/'\n",
    "fileCSV = 'Richard_GAMA_SED_103122_median_stack_z_Mstar_bins.csv'\n",
    "\n",
    "df = pd.read_csv(dirIn + fileCSV)\n",
    "\n",
    "wave_csv = df['lambda_micron']\n",
    "df.keys()"
   ]
  },
  {
   "cell_type": "code",
   "execution_count": null,
   "metadata": {},
   "outputs": [],
   "source": [
    "#| hide\n",
    "\n",
    "plt.figure(figsize=(10,5))\n",
    "\n",
    "plt.plot(wave_csv*10_000 , df['f_nu_mJy_z0.2_m10.0'], label='Richard: f_nu_mJy_z0.2_m10.0');\n",
    "# plt.plot(wave_csv*10_000 , df['f_nu_mJy_z0.2_m10.5'], label='Richard: f_nu_mJy_z0.2_m10.5');\n",
    "plt.plot(wave_csv*10_000 , df['f_nu_mJy_z0.2_m11.0'], label='Richard: f_nu_mJy_z0.2_m11.0');\n",
    "\n",
    "\n",
    "plt.plot(final_wave_um[142]*10_000 , final_sed_mJy[142], label='0, M=?');\n",
    "plt.plot(final_wave_um[100]*10_000 , final_sed_mJy[100], label='1, M=?');\n",
    "\n",
    "plt.plot(final_wave_um[20]*10_000 , final_sed_mJy[20], label='2, M=?');\n",
    "plt.plot(final_wave_um[30]*10_000 , final_sed_mJy[30], label='3, M=?');\n",
    "\n",
    "\n",
    "\n",
    "plt.ylabel('Flux per unit wavelength (mJy)', fontsize=16)\n",
    "plt.xlabel('Restframe Wavelength (Angstrom) ', fontsize=16)\n",
    "\n",
    "plt.axvline(x=3727, label = '[OII]', linestyle='dashed', alpha=0.9, color='black')\n",
    "plt.axvline(x=4050, label = '[OIII]', linestyle='dashed', alpha=0.9, color='purple')\n",
    "plt.axvline(x=4861, label = 'H-beta', linestyle='dashed', alpha=0.9, color='orangered')\n",
    "plt.axvline(x=5007, label = '[OIII]', linestyle='dashed', alpha=0.9, color='purple')\n",
    "plt.axvline(x=6563, label = 'H-alpha', linestyle='dashed', alpha=0.9, color='gray')\n",
    "\n",
    "plt.yscale('log')\n",
    "plt.legend(ncol=1, fontsize=16 , bbox_to_anchor=(1.05, 1.0), loc='upper left')\n",
    "\n",
    "# plt.xlim(8e2, 2e4)\n",
    "plt.xlim(2900, 10000)\n",
    "plt.ylim(1e-5, 1e1)"
   ]
  },
  {
   "cell_type": "code",
   "execution_count": null,
   "metadata": {},
   "outputs": [],
   "source": [
    "#| hide \n",
    "\n",
    "# u0, g0, r0, i0, z0, Y0 = lsst_mags_0.T\n",
    "# u02, g02, r02, i02, z02, Y02 = lsst_mags_02.T\n",
    "\n",
    "\n",
    "# # Plotting SEDs and LSST colors\n",
    "# f, ax = plt.subplots(1, 1, figsize=(5, 5))\n",
    "\n",
    "# ax.scatter(g-r, r-i, c='g', label='z=0 v1', alpha=0.5)\n",
    "# ax.scatter(g0-r0, r0-i0, c='r', label='z=0 v2', alpha=0.5)\n",
    "# ax.scatter(g02-r02, r02-i02, c='blue', label='z=0.2 v2', alpha=0.5)\n",
    "\n",
    "# ax.set_xlabel(r'${\\rm (g-r)}$', fontsize = 'x-large')\n",
    "# ax.set_ylabel(r'${\\rm (r-i)}$', fontsize = 'x-large')\n",
    "\n",
    "# plt.legend()\n",
    "\n",
    "# plt.show()\n"
   ]
  },
  {
   "cell_type": "code",
   "execution_count": null,
   "metadata": {},
   "outputs": [],
   "source": [
    "#| hide \n",
    "\n",
    "# mpl.rcParams[\"axes.labelsize\"] = 32\n",
    "\n",
    "# df = pd.DataFrame(np.array([u0-g0, g0-r0, r0-i0, i0-z0, z0-Y0, i0]).T, \n",
    "#                             columns=['u-g', 'g-r','r-i','i-z', 'z-Y', 'i']);\n",
    "\n",
    "\n",
    "# gr = sns.PairGrid(df);\n",
    "\n",
    "# gr.map_lower(plt.scatter);\n",
    "# gr.map_upper(sns.kdeplot);\n",
    "# # gr.map_upper(hide_current_axis)\n",
    "# gr.map_diag(sns.histplot, kde=True, stat='density', bins=20);\n",
    "\n",
    "# _ = gr.add_legend(fontsize=40)\n",
    "\n",
    "# plt.show()"
   ]
  },
  {
   "cell_type": "code",
   "execution_count": null,
   "metadata": {},
   "outputs": [],
   "source": [
    "#| hide \n",
    "\n",
    "## Compare with observational data\n",
    "\n",
    "def loadTest(dirIn = '/lcrc/project/cosmo_ai/nramachandra/Projects/SPHEREx/phoZ/Data/fromGalaxev/photozs/datasets/data_feb_2021/'):\n",
    "    Testset = 'OBSuq'\n",
    "    test_data = np.load(dirIn + 'test_' + Testset + '.npy') \n",
    "\n",
    "    X_test = test_data[: , :-1]\n",
    "    y_test = test_data[: , -1]\n",
    "\n",
    "    X_err = np.load(dirIn + 'test_' + Testset +'_err.npy') \n",
    "    test_labels = np.load(dirIn + 'test_' + Testset + '_label.npy') \n",
    "\n",
    "    return X_test, y_test, X_err, test_labels"
   ]
  },
  {
   "cell_type": "code",
   "execution_count": null,
   "metadata": {},
   "outputs": [],
   "source": [
    "#| hide \n",
    "\n",
    "X_test, y_test, X_err, label_test = loadTest()"
   ]
  },
  {
   "cell_type": "code",
   "execution_count": null,
   "metadata": {},
   "outputs": [],
   "source": [
    "#| hide \n",
    "\n",
    "y_test.min(), y_test.max(), y_test.shape, X_test.shape"
   ]
  },
  {
   "cell_type": "code",
   "execution_count": null,
   "metadata": {},
   "outputs": [],
   "source": [
    "#| hide \n",
    "\n",
    "z_cond = np.where(y_test < 0.3)\n",
    "X_test = X_test[z_cond]\n",
    "y_test = y_test[z_cond]\n",
    "X_err = X_err[z_cond]\n",
    "label_test = label_test[z_cond]"
   ]
  },
  {
   "cell_type": "code",
   "execution_count": null,
   "metadata": {},
   "outputs": [],
   "source": [
    "#| hide \n",
    "\n",
    "y_test.min(), y_test.max(), y_test.shape, X_test.shape"
   ]
  },
  {
   "cell_type": "code",
   "execution_count": null,
   "metadata": {},
   "outputs": [],
   "source": []
  },
  {
   "cell_type": "code",
   "execution_count": null,
   "metadata": {},
   "outputs": [],
   "source": [
    "#| hide \n",
    "\n",
    "if True: \n",
    "    df_testSDSS = pd.DataFrame()\n",
    "    SDSS_select = np.where(label_test == 0)\n",
    "\n",
    "    # Add columns\n",
    "    df_testSDSS['u-g'] = X_test[SDSS_select][:, 0]\n",
    "    df_testSDSS['g-r'] = X_test[SDSS_select][:, 1]\n",
    "    df_testSDSS['r-i'] = X_test[SDSS_select][:, 2]\n",
    "    df_testSDSS['i-z'] = X_test[SDSS_select][:, 3]\n",
    "    df_testSDSS['mag(i)'] = X_test[SDSS_select][:, 4]\n",
    "#     df_testSDSS['redshift'] = y_test[SDSS_select][:]\n",
    "\n",
    "\n",
    "    df_testVIPERS = pd.DataFrame()\n",
    "    VIPERS_select = np.where(label_test == 1)\n",
    "\n",
    "    # Add columns\n",
    "    df_testVIPERS['u-g'] = X_test[VIPERS_select][:, 0]\n",
    "    df_testVIPERS['g-r'] = X_test[VIPERS_select][:, 1]\n",
    "    df_testVIPERS['r-i'] = X_test[VIPERS_select][:, 2]\n",
    "    df_testVIPERS['i-z'] = X_test[VIPERS_select][:, 3]\n",
    "    df_testVIPERS['mag(i)'] = X_test[VIPERS_select][:, 4]\n",
    "#     df_testVIPERS['redshift'] = y_test[VIPERS_select][:]\n",
    "\n",
    "\n",
    "\n",
    "    df_testDEEP2 = pd.DataFrame()\n",
    "    DEEP2_select = np.where(label_test == 3)\n",
    "\n",
    "    # Add columns\n",
    "    df_testDEEP2['u-g'] = X_test[DEEP2_select][:, 0]\n",
    "    df_testDEEP2['g-r'] = X_test[DEEP2_select][:, 1]\n",
    "    df_testDEEP2['r-i'] = X_test[DEEP2_select][:, 2]\n",
    "    df_testDEEP2['i-z'] = X_test[DEEP2_select][:, 3]\n",
    "    df_testDEEP2['mag(i)'] = X_test[DEEP2_select][:, 4]\n",
    "#     df_testDEEP2['redshift'] = y_test[DEEP2_select][:]\n",
    "\n",
    "    \n",
    "    df_hydro = pd.DataFrame()\n",
    "    df_hydro['u-g'] = u-g\n",
    "    df_hydro['g-r'] = g-r\n",
    "    df_hydro['r-i'] = r-i\n",
    "    df_hydro['i-z'] = i-z\n",
    "#     df_hydro['z-Y'] = z0-Y0\n",
    "    df_hydro['mag(i)'] = i"
   ]
  },
  {
   "cell_type": "code",
   "execution_count": null,
   "metadata": {},
   "outputs": [],
   "source": [
    "#| hide \n",
    "\n",
    "allLabels = ['u-g', 'g-i', 'i-r', 'r-z', 'mag(i)']\n",
    "line_labels = ['Synthetic', 'VIPERS', 'SDSS', 'Watercolor']\n",
    "\n",
    "s2 = df_testVIPERS.values \n",
    "samples2 = MCSamples(samples=s2, names= allLabels , labels=allLabels, label = line_labels[1])\n",
    "\n",
    "s3 = df_testSDSS.values \n",
    "samples3 = MCSamples(samples=s3, names= allLabels , labels=allLabels, label = line_labels[2])\n",
    "\n",
    "s0 = df_hydro.values\n",
    "samples0 = MCSamples(samples=s0, names= allLabels , labels=allLabels, label = line_labels[3])\n",
    "\n",
    "\n",
    "g = plots.get_subplot_plotter(subplot_size=4)\n",
    "g.settings.axes_fontsize=27\n",
    "g.settings.axes_labelsize = 27\n",
    "g.settings.legend_fontsize = 27\n",
    "g.settings.fontsize = 27\n",
    "g.settings.alpha_filled_add=0.4\n",
    "g.settings.solid_contour_palefactor = 0.25\n",
    "g.settings.num_plot_contours = 2\n",
    "\n",
    "# g.triangle_plot([samples0, samples2, samples3], allLabels , filled=True, contour_lws=3) \n",
    "g.triangle_plot([samples0, samples3], allLabels , filled=True, contour_lws=3) \n",
    "\n",
    "plt.show()"
   ]
  },
  {
   "cell_type": "code",
   "execution_count": null,
   "metadata": {},
   "outputs": [],
   "source": [
    "#| hide\n",
    "\n",
    "# galaxy_star_catalog_file0='../watercolor/data/test_hacc_stellar_catalog/Gal_Z0.txt' # HACC galaxy catalog\n",
    "# _, _, lsst_mags_0, spherex_mags_0, cosmos_mags_0 = photometry_from_catalog(galaxy_star_catalog_file0)"
   ]
  },
  {
   "cell_type": "code",
   "execution_count": null,
   "metadata": {},
   "outputs": [],
   "source": [
    "#| hide\n",
    "\n",
    "# galaxy_star_catalog_file02='../watercolor/data/test_hacc_stellar_catalog/Gal_Z02.txt' # HACC galaxy catalog\n",
    "# _, _, lsst_mags_02, spherex_mags_02, cosmos_mags_02 = photometry_from_catalog(galaxy_star_catalog_file02)"
   ]
  },
  {
   "cell_type": "code",
   "execution_count": null,
   "metadata": {},
   "outputs": [],
   "source": [
    "#| hide\n",
    "\n",
    "# galaxy_star_catalog_file1='../watercolor/data/test_hacc_stellar_catalog/Gal_Z1.txt' # HACC galaxy catalog\n",
    "# _, _, lsst_mags_1, spherex_mags_1, cosmos_mags_1 = photometry_from_catalog(galaxy_star_catalog_file1)"
   ]
  },
  {
   "cell_type": "code",
   "execution_count": null,
   "metadata": {},
   "outputs": [],
   "source": [
    "#| hide\n",
    "\n",
    "# galaxy_star_catalog_file2='../watercolor/data/test_hacc_stellar_catalog/Gal_Z2.txt' # HACC galaxy catalog\n",
    "# _, _, lsst_mags_2, spherex_mags_2, cosmos_mags_2 = photometry_from_catalog(galaxy_star_catalog_file2)"
   ]
  },
  {
   "cell_type": "code",
   "execution_count": null,
   "metadata": {},
   "outputs": [],
   "source": [
    "#| hide\n",
    "\n",
    "# galaxy_star_catalog_file3='../watercolor/data/test_hacc_stellar_catalog/Gal_Z3.txt' # HACC galaxy catalog\n",
    "# _, _, lsst_mags_3, spherex_mags_3, cosmos_mags_3 = photometry_from_catalog(galaxy_star_catalog_file3)"
   ]
  },
  {
   "cell_type": "code",
   "execution_count": null,
   "metadata": {},
   "outputs": [],
   "source": [
    "#| hide \n",
    "\n",
    "# u0, g0, r0, i0, z0, Y0 = lsst_mags_0.T\n",
    "# u02, g02, r02, i02, z02, Y02 = lsst_mags_02.T\n",
    "# u1, g1, r1, i1, z1, Y1 = lsst_mags_1.T\n",
    "# u2, g2, r2, i2, z2, Y2 = lsst_mags_2.T\n",
    "# u3, g3, r3, i3, z3, Y3 = lsst_mags_3.T"
   ]
  },
  {
   "cell_type": "code",
   "execution_count": null,
   "metadata": {},
   "outputs": [],
   "source": [
    "#| hide \n",
    "\n",
    "# # Plotting SEDs and LSST colors\n",
    "# f, ax = plt.subplots(1, 1, figsize=(5, 5))\n",
    "\n",
    "# ax.scatter(g0-r0, r0-i0, c='r', label='z=0', alpha=0.5)\n",
    "# ax.scatter(g1-r1, r1-i1, c='g', label='z=1', alpha=0.5)\n",
    "# ax.scatter(g2-r2, r2-i2, c='b', label='z=2', alpha=0.5)\n",
    "# ax.scatter(g3-r3, r3-i3, c='k', label='z=3', alpha=0.5)\n",
    "# # ax.scatter(g02-r02, r02-i02, c='brown', label='z=0.2')\n",
    "\n",
    "# ax.set_xlabel(r'${\\rm (g-r)}$', fontsize = 'x-large')\n",
    "# ax.set_ylabel(r'${\\rm (r-i)}$', fontsize = 'x-large')\n",
    "\n",
    "# plt.legend()\n",
    "\n",
    "# plt.show()"
   ]
  },
  {
   "cell_type": "code",
   "execution_count": null,
   "metadata": {},
   "outputs": [],
   "source": [
    "#| hide \n",
    "\n",
    "# # Plotting SEDs and LSST colors\n",
    "# f, ax = plt.subplots(1, 1, figsize=(5, 5))\n",
    "\n",
    "# ax.scatter(g0-r0, i0, c='r', label='z=0', alpha=0.5)\n",
    "# ax.scatter(g1-r1, i1, c='g', label='z=1', alpha=0.5)\n",
    "# ax.scatter(g2-r2, i2, c='b', label='z=2', alpha=0.5)\n",
    "# ax.scatter(g3-r3, i3, c='k', label='z=3', alpha=0.5)\n",
    "# # ax.scatter(g02-r02, r02-i02, c='brown', label='z=0.2')\n",
    "\n",
    "# ax.set_xlabel(r'${\\rm (g-r)}$', fontsize = 'x-large')\n",
    "# ax.set_ylabel(r'${\\rm (i)}$', fontsize = 'x-large')\n",
    "\n",
    "# plt.legend()\n",
    "\n",
    "# plt.show()"
   ]
  },
  {
   "cell_type": "code",
   "execution_count": null,
   "metadata": {},
   "outputs": [],
   "source": [
    "#| hide \n",
    "\n",
    "# nbins=17\n",
    "# # Plotting SEDs and LSST colors\n",
    "# f, ax = plt.subplots(1, 3, figsize=(16, 4))\n",
    "\n",
    "\n",
    "# H, bins = np.histogram(i0, bins=nbins, range=(7, 15))\n",
    "# ax[0].plot(bins[:-1],H/H.max(), label='z=0')\n",
    "\n",
    "# H, bins = np.histogram(i02, bins=nbins, range=(7, 15))\n",
    "# ax[0].plot(bins[:-1],H/H.max(), label='z=0.2')\n",
    "\n",
    "# H, bins = np.histogram(i1, bins=nbins, range=(7, 15))\n",
    "# ax[0].plot(bins[:-1],H/H.max(), label='z=1')\n",
    "\n",
    "# H, bins = np.histogram(i2, bins=nbins, range=(7, 15))\n",
    "# ax[0].plot(bins[:-1],H/H.max(), label='z=2')\n",
    "\n",
    "# H, bins = np.histogram(i3, bins=nbins, range=(7, 15))\n",
    "# ax[0].plot(bins[:-1],H/H.max(), label='z=2')\n",
    "\n",
    "\n",
    "# ax[0].set_ylabel(r'${\\rm P(i)}$', fontsize = 'x-large')\n",
    "# ax[0].set_xlabel(r'${\\rm i}$', fontsize = 'x-large')\n",
    "\n",
    "# ####################\n",
    "\n",
    "# H, bins = np.histogram(g0-r0, bins=nbins, range=(0, 1.5))\n",
    "# ax[1].plot(bins[:-1],H/H.max(), label='z=0')\n",
    "\n",
    "# H, bins = np.histogram(g02-r02, bins=nbins, range=(0, 1.5))\n",
    "# ax[1].plot(bins[:-1],H/H.max(), label='z=0.2')\n",
    "\n",
    "# H, bins = np.histogram(g1-r1, bins=nbins, range=(0, 1.5))\n",
    "# ax[1].plot(bins[:-1],H/H.max(), label='z=1')\n",
    "\n",
    "# H, bins = np.histogram(g2-r2, bins=nbins, range=(0, 1.5))\n",
    "# ax[1].plot(bins[:-1],H/H.max(), label='z=2')\n",
    "\n",
    "# H, bins = np.histogram(g3-r3, bins=nbins, range=(0, 1.5))\n",
    "# ax[1].plot(bins[:-1],H/H.max(), label='z=2')\n",
    "\n",
    "\n",
    "# ax[1].set_ylabel(r'${\\rm P(g-r)}$', fontsize = 'x-large')\n",
    "# ax[1].set_xlabel(r'${\\rm g-r}$', fontsize = 'x-large')\n",
    "\n",
    "\n",
    "# ####################\n",
    "\n",
    "# H, bins = np.histogram(u0-g0, bins=nbins, range=(-3, 1.5))\n",
    "# ax[2].plot(bins[:-1],H/H.max(), label='z=0')\n",
    "\n",
    "# H, bins = np.histogram(u02-g02, bins=nbins, range=(-3, 1.5))\n",
    "# ax[2].plot(bins[:-1],H/H.max(), label='z=0.2')\n",
    "\n",
    "# H, bins = np.histogram(u1-g1, bins=nbins, range=(-3, 1.5))\n",
    "# ax[2].plot(bins[:-1],H/H.max(), label='z=1')\n",
    "\n",
    "# H, bins = np.histogram(u2-g2, bins=nbins, range=(-3, 1.5))\n",
    "# ax[2].plot(bins[:-1],H/H.max(), label='z=2')\n",
    "\n",
    "# H, bins = np.histogram(u3-g3, bins=nbins, range=(-3, 1.5))\n",
    "# ax[2].plot(bins[:-1],H/H.max(), label='z=2')\n",
    "\n",
    "\n",
    "# ax[2].set_ylabel(r'${\\rm P(u-g)}$', fontsize = 'x-large')\n",
    "# ax[2].set_xlabel(r'${\\rm u-g}$', fontsize = 'x-large')\n",
    "\n",
    "\n",
    "# ####################\n",
    "\n",
    "\n",
    "\n",
    "# ax[0].legend()\n",
    "\n",
    "# plt.show()"
   ]
  },
  {
   "cell_type": "code",
   "execution_count": null,
   "metadata": {},
   "outputs": [],
   "source": []
  },
  {
   "cell_type": "code",
   "execution_count": null,
   "metadata": {},
   "outputs": [],
   "source": [
    "#| hide\n",
    "\n",
    "# import watercolor\n",
    "# from watercolor.load_sim_stellar_catalog import load_hacc_galaxy_data\n",
    "# from watercolor.calculate_csp import calc_fluxes_for_galaxy\n",
    "# from watercolor.load_sps_library import LIBRARY_FLUX_FILE, LIBRARY_WAVE_FILE, LIBRARY_AGE_FILE, LIBRARY_METAL_FILE\n",
    "# from watercolor.dust_attenuation import spectrum_dusted, log_total_stellar_metal, log_total_stellar_mass\n",
    "# from watercolor.cosmic_distance_effects import combine_redshift_and_dimming_effect\n",
    "# from watercolor.filter_convolution import load_survey_pickle, photometry_from_spectra\n",
    "\n",
    "# import pandas as pd\n",
    "# import seaborn as sns\n",
    "# import matplotlib as mpl"
   ]
  },
  {
   "cell_type": "code",
   "execution_count": null,
   "metadata": {},
   "outputs": [],
   "source": [
    "#| hide\n",
    "\n",
    "# fof_halo_tag, if_satellite, galaxy_tags, stellar_idx, metal_hydro, mass, age_hydro, x, y, z , vx, vy, vz = load_hacc_galaxy_data(galaxy_star_catalog_file)"
   ]
  },
  {
   "cell_type": "code",
   "execution_count": null,
   "metadata": {},
   "outputs": [],
   "source": [
    "#| hide\n",
    "\n",
    "# print('Number of galaxies: %d'%np.unique(galaxy_tags).shape[0])\n",
    "\n",
    "# logZ_all = np.zeros(shape=(np.unique(galaxy_tags).shape[0], ))\n",
    "# logmstar_all = np.zeros(shape=(np.unique(galaxy_tags).shape[0], ))\n",
    "# satellite_cond_all = np.zeros(shape=(np.unique(galaxy_tags).shape[0], ))\n",
    "# u, g, r, i, z, Y = lsst_mags.T\n",
    "\n",
    "# for galaxy_number in range(np.unique(galaxy_tags).shape[0]):\n",
    "#     unique_galaxy_tag = np.unique(galaxy_tags)[galaxy_number]\n",
    "    \n",
    "\n",
    "#     mstar_i = mass[galaxy_tags == unique_galaxy_tag]\n",
    "#     metal_i = metal_hydro[galaxy_tags == unique_galaxy_tag]\n",
    "    \n",
    "    \n",
    "#     if_satellite_i = if_satellite[galaxy_tags == unique_galaxy_tag]\n",
    "\n",
    "#     logZ = log_total_stellar_metal(metal_i, mstar_i)[0]\n",
    "#     logmstar = log_total_stellar_mass(mstar_i)[0]\n",
    "#     satellite_cond = np.max(if_satellite_i)\n",
    "    \n",
    "#     logZ_all[galaxy_number] = logZ\n",
    "#     logmstar_all[galaxy_number] = logmstar\n",
    "#     satellite_cond_all[galaxy_number] = satellite_cond\n",
    "\n",
    "# satellite_cond_all[satellite_cond_all !=0] = 1\n",
    "    \n",
    "# # if_central_str = np.array(satellite_cond_all.shape[0]*['dummy'])\n",
    "# # if_central_str[satellite_cond_all !=0] = 'Sat'\n",
    "# # if_central_str[satellite_cond_all ==0] = 'Cen'"
   ]
  },
  {
   "cell_type": "code",
   "execution_count": null,
   "metadata": {},
   "outputs": [],
   "source": [
    "#| hide \n",
    "\n",
    "# def scatter_subset(x, y, hue, mask, **kws):\n",
    "#     sns.scatterplot(x=x[mask], y=y[mask], hue=hue[mask], **kws)\n",
    "    \n",
    "# def hide_current_axis(*args, **kwds):\n",
    "#     plt.gca().set_visible(False)"
   ]
  },
  {
   "cell_type": "code",
   "execution_count": null,
   "metadata": {},
   "outputs": [],
   "source": [
    "#| hide \n",
    "\n",
    "# mpl.rcParams[\"axes.labelsize\"] = 32\n",
    "\n",
    "# df = pd.DataFrame(np.array([u-g, g-r, r-i, i-z, z-Y, i, logZ_all, logmstar_all, satellite_cond_all]).T, \n",
    "#                             columns=['u-g', 'g-r','r-i','i-z', 'z-Y', 'i', 'logZ', 'logmstar', 'if_satellite']);\n",
    "\n",
    "\n",
    "# gr = sns.PairGrid(df, hue='if_satellite');\n",
    "\n",
    "# gr.map_lower(plt.scatter);\n",
    "# gr.map_upper(sns.kdeplot);\n",
    "# # gr.map_upper(hide_current_axis)\n",
    "# gr.map_diag(sns.histplot, kde=True, stat='density', bins=20);\n",
    "\n",
    "# _ = gr.add_legend(fontsize=40)\n",
    "\n",
    "# # plt.savefig('/lcrc/project/cosmo_ai/nramachandra/Projects/Hydro_paint/Plots/' + 'color_catalog.png')\n"
   ]
  },
  {
   "cell_type": "code",
   "execution_count": null,
   "metadata": {},
   "outputs": [],
   "source": [
    "#| hide \n",
    "\n",
    "# u, g, r, i, z, Y = lsst_mags.T\n",
    "\n",
    "# plt.figure(figsize=(5,5))\n",
    "# plt.scatter( (g-r)[satellite_cond_all != 0], (u-g)[satellite_cond_all != 0], c='red', alpha=0.5, label='central')\n",
    "# plt.scatter( (g-r)[satellite_cond_all != 1], (u-g)[satellite_cond_all != 1], c='blue', alpha=0.5, label='satellite')\n",
    "\n",
    "# plt.xlabel(r'${\\rm (g-r)}$', fontsize = 'x-large')\n",
    "# plt.ylabel(r'${\\rm (r-i)}$', fontsize = 'x-large')\n",
    "\n",
    "# plt.show()"
   ]
  },
  {
   "cell_type": "code",
   "execution_count": null,
   "metadata": {},
   "outputs": [],
   "source": [
    "#| hide \n",
    "\n",
    "# print(u.max(), u.min())\n",
    "# print(g.max(), g.min())\n",
    "# print(r.max(), r.min())\n",
    "# print(i.max(), i.min())\n",
    "# print(z.max(), z.min())\n",
    "# print(Y.max(), Y.min())\n",
    "\n",
    "# # # red # g-r > 1.3\n",
    "# # # blue # g-r < 0.1"
   ]
  },
  {
   "cell_type": "markdown",
   "metadata": {},
   "source": [
    "## Behind the scenes"
   ]
  },
  {
   "cell_type": "markdown",
   "metadata": {},
   "source": [
    "#### 1. First we import the following modules of hydro_colors "
   ]
  },
  {
   "cell_type": "code",
   "execution_count": null,
   "metadata": {},
   "outputs": [],
   "source": [
    "import watercolor\n",
    "from watercolor.load_sim_stellar_catalog import load_hacc_galaxy_data\n",
    "from watercolor.calculate_csp import calc_fluxes_for_galaxy\n",
    "from watercolor.load_sps_library import LIBRARY_FLUX_FILE, LIBRARY_WAVE_FILE, LIBRARY_AGE_FILE, LIBRARY_METAL_FILE\n",
    "from watercolor.dust_attenuation import spectrum_dusted, log_total_stellar_metal, log_total_stellar_mass\n",
    "from watercolor.cosmic_distance_effects import combine_redshift_and_dimming_effect\n",
    "from watercolor.filter_convolution import load_survey_pickle, photometry_from_spectra"
   ]
  },
  {
   "cell_type": "markdown",
   "metadata": {},
   "source": [
    "#### 2. Then the galaxy-star catalog from HACC is loaded, using a unique galaxy tag, we select a galaxy"
   ]
  },
  {
   "cell_type": "code",
   "execution_count": null,
   "metadata": {},
   "outputs": [],
   "source": [
    "fof_halo_tag, if_satellite, galaxy_tags, stellar_idx, metal_hydro, mass, age_hydro, x, y, z , vx, vy, vz = watercolor.load_sim_stellar_catalog.load_hacc_galaxy_data(galaxy_star_catalog_file)"
   ]
  },
  {
   "cell_type": "code",
   "execution_count": null,
   "metadata": {},
   "outputs": [],
   "source": [
    "galaxy_number = 4 # Choosing one of the galaxies in the catalog\n",
    "unique_galaxy_tag = np.unique(galaxy_tags)[galaxy_number]\n",
    "print('Number of galaxies: %d'%np.unique(galaxy_tags).shape[0])\n",
    "\n",
    "mstar_i = mass[galaxy_tags == unique_galaxy_tag]\n",
    "metal_i = metal_hydro[galaxy_tags == unique_galaxy_tag]\n",
    "if_satellite_i = if_satellite[galaxy_tags == unique_galaxy_tag]\n",
    "\n",
    "logZ = log_total_stellar_metal(metal_i, mstar_i)\n",
    "logmstar = log_total_stellar_mass(mstar_i)"
   ]
  },
  {
   "cell_type": "markdown",
   "metadata": {},
   "source": [
    "#### 3. After selecting a unique galaxy tag, we calculate the SED. This is the rest-frame SED is due to spectral emission alone, and without dust attenuation.  "
   ]
  },
  {
   "cell_type": "code",
   "execution_count": null,
   "metadata": {},
   "outputs": [],
   "source": [
    "spec_wave_ssp, spec_flux_ssp, spec_csp, flux_proxy, gal_stellar_mass = watercolor.calculate_csp.calc_fluxes_for_galaxy(galaxy_star_catalog_file,\n",
    "                                                                                                                       unique_galaxy_tag,\n",
    "                                                                                                                       LIBRARY_FLUX_FILE,\n",
    "                                                                                                                       LIBRARY_WAVE_FILE,\n",
    "                                                                                                                       LIBRARY_AGE_FILE,\n",
    "                                                                                                                       LIBRARY_METAL_FILE)"
   ]
  },
  {
   "cell_type": "markdown",
   "metadata": {},
   "source": [
    "#### 4. We plot SEDs from both SSPs and CSPs"
   ]
  },
  {
   "cell_type": "code",
   "execution_count": null,
   "metadata": {},
   "outputs": [],
   "source": [
    "fig, a = plt.subplots(2,1, figsize=(14, 12), sharex=True, sharey=False)\n",
    "c_norm = mpl.colors.Normalize(vmin=np.min(flux_proxy), vmax=np.max(flux_proxy))\n",
    "c_map  = mpl.cm.coolwarm\n",
    "\n",
    "s_map  = mpl.cm.ScalarMappable(cmap=c_map, norm=c_norm)\n",
    "s_map.set_array([])\n",
    "\n",
    "\n",
    "for idx in range(spec_flux_ssp.shape[0]):\n",
    "    \n",
    "    # spec_flux_ssp[idx] = spec_ssp(age_hydro[ssp_id], metal_hydro[ssp_id], mass[ssp_id])\n",
    "    a[0].plot(spec_wave_ssp, spec_flux_ssp[idx], \n",
    "              # color=s_map.to_rgba(np.log10(mass[ssp_id])), \n",
    "              color=s_map.to_rgba(flux_proxy[idx]), \n",
    "              alpha=0.5)\n",
    "\n",
    "fig.colorbar(s_map, ax = a[0], \n",
    "             orientation = 'horizontal', \n",
    "             # label=r'stellar mass', pad=0.2)\n",
    "             label=r'flux proxy', pad=0.2)\n",
    "    \n",
    "\n",
    "#####################################################################\n",
    "\n",
    "a[1].plot(spec_wave_ssp, spec_csp)\n",
    "\n",
    "\n",
    "# a[0].set_ylim(1e-9, 1e-6)\n",
    "# a[0].set_yscale('log')\n",
    "# a[1].set_yscale('log')\n",
    "# a[1].set_xscale('log')\n",
    "a[1].set_xlim(3e3, 1e4)\n",
    "\n",
    "\n",
    "a[0].set_xlabel(r'${\\rm wavelength\\ [\\AA]}$', fontsize = 'x-large')\n",
    "a[1].set_xlabel(r'${\\rm wavelength\\ [\\AA]}$', fontsize = 'x-large')\n",
    "a[0].set_ylabel(r'$L_{\\rm SSP}(\\lambda)\\ {\\rm [L_{\\odot}/\\AA]}$', fontsize = 'x-large')\n",
    "a[1].set_ylabel(r'$L_{\\rm CSP}(\\lambda)\\ {\\rm [L_{\\odot}/\\AA]}$', fontsize = 'x-large')\n",
    "\n",
    "\n",
    "plt.show()"
   ]
  },
  {
   "cell_type": "markdown",
   "metadata": {},
   "source": [
    "#### 5. CSPs are attenuation due to dust"
   ]
  },
  {
   "cell_type": "code",
   "execution_count": null,
   "metadata": {},
   "outputs": [],
   "source": [
    "spec_wave_csp_dusted = spectrum_dusted(spec_csp, spec_wave_ssp, logmstar, logZ, 0.01)"
   ]
  },
  {
   "cell_type": "code",
   "execution_count": null,
   "metadata": {},
   "outputs": [],
   "source": [
    "f, a = plt.subplots(1, 1, figsize=(12, 3))\n",
    "a.plot(spec_wave_ssp, spec_csp, label='No dust')\n",
    "a.plot(spec_wave_ssp, spec_wave_csp_dusted, label='With dust attenuation')\n",
    "\n",
    "a.set_xlim(3e3, 1e4)\n",
    "\n",
    "a.set_xlabel(r'${\\rm wavelength\\ [\\AA]}$', fontsize = 'x-large')\n",
    "a.set_ylabel(r'$L_{\\rm CSP}(\\lambda)\\ {\\rm [L_{\\odot}/\\AA]}$', fontsize = 'x-large')\n",
    "a.legend(fontsize='x-large')"
   ]
  },
  {
   "cell_type": "markdown",
   "metadata": {},
   "source": [
    "#### 6. The resulting dust attenuated spectra undergoes cosmic dimming and redshifting "
   ]
  },
  {
   "cell_type": "code",
   "execution_count": null,
   "metadata": {},
   "outputs": [],
   "source": [
    "redsh_wave, redsh_spec = combine_redshift_and_dimming_effect(wave=spec_wave_ssp, \n",
    "                                                             spec=spec_wave_csp_dusted, \n",
    "                                                             galaxy_redshift=0.001)"
   ]
  },
  {
   "cell_type": "code",
   "execution_count": null,
   "metadata": {},
   "outputs": [],
   "source": [
    "f, a = plt.subplots(1, 1, figsize=(12, 3))\n",
    "a.plot(spec_wave_ssp, spec_csp, label='Pre-distance effects')\n",
    "a.plot(redsh_wave, redsh_spec*1e6, label='Redshift and dimming')\n",
    "\n",
    "\n",
    "\n",
    "# a.set_xlim(3e3, 1e4)\n",
    "a.set_xlim(3e3, 1e6)\n",
    "\n",
    "a.set_xscale('log')\n",
    "# a.set_yscale('log')\n",
    "\n",
    "a.set_xlabel(r'${\\rm wavelength\\ [\\AA]}$', fontsize = 'x-large')\n",
    "a.set_ylabel(r'$L_{\\rm CSP}(\\lambda)\\ {\\rm [L_{\\odot}/\\AA]}$', fontsize = 'x-large')\n",
    "a.legend(fontsize='x-large')"
   ]
  },
  {
   "cell_type": "markdown",
   "metadata": {},
   "source": [
    "#### 7. The final spectrum is convolved with telescope transmission curves to obtain magnitudes"
   ]
  },
  {
   "cell_type": "code",
   "execution_count": null,
   "metadata": {},
   "outputs": [],
   "source": [
    "##### Load survey filters \n",
    "\n",
    "SURVEY_STRING = 'SPHEREx'\n",
    "central_wavelengths, bandpass_wavs, bandpass_vals, bandpass_names = load_survey_pickle(SURVEY_STRING)\n",
    "\n",
    "##### Compute bandpasses\n",
    "\n",
    "# sed_um_wave = spec_wave_ssp/1e4\n",
    "# sed_mJy_flux = spec_csp*1e3\n",
    "sed_um_wave = redsh_wave/1e4\n",
    "sed_mJy_flux = redsh_spec*1e3\n",
    "\n",
    "flux_survey, appmag_ext_survey, band_fluxes_survey = photometry_from_spectra(central_wavelengths, \n",
    "                                                                          sed_um_wave, \n",
    "                                                                          sed_mJy_flux, \n",
    "                                                                          bandpass_wavs, \n",
    "                                                                          bandpass_vals, \n",
    "                                                                          bandpass_names,\n",
    "                                                                          interp_kind='linear',\n",
    "                                                                          plot=True,\n",
    "                                                                          clip_bandpass=True)"
   ]
  },
  {
   "cell_type": "code",
   "execution_count": null,
   "metadata": {},
   "outputs": [],
   "source": [
    "##### Load survey filters \n",
    "\n",
    "SURVEY_STRING = 'LSST'\n",
    "central_wavelengths, bandpass_wavs, bandpass_vals, bandpass_names = load_survey_pickle(SURVEY_STRING)\n",
    "\n",
    "##### Compute bandpasses\n",
    "\n",
    "# sed_um_wave = spec_wave_ssp/1e4\n",
    "# sed_mJy_flux = spec_csp*1e3\n",
    "sed_um_wave = redsh_wave/1e4\n",
    "sed_mJy_flux = redsh_spec*1e3\n",
    "\n",
    "flux_survey, appmag_ext_survey, band_fluxes_survey = photometry_from_spectra(central_wavelengths, \n",
    "                                                                          sed_um_wave, \n",
    "                                                                          sed_mJy_flux, \n",
    "                                                                          bandpass_wavs, \n",
    "                                                                          bandpass_vals, \n",
    "                                                                          bandpass_names,\n",
    "                                                                          interp_kind='linear',\n",
    "                                                                          plot=True,\n",
    "                                                                          clip_bandpass=True)"
   ]
  },
  {
   "cell_type": "code",
   "execution_count": null,
   "metadata": {},
   "outputs": [],
   "source": [
    "##### Load survey filters \n",
    "\n",
    "SURVEY_STRING = 'COSMOS'\n",
    "central_wavelengths, bandpass_wavs, bandpass_vals, bandpass_names = load_survey_pickle(SURVEY_STRING)\n",
    "\n",
    "\n",
    "##### Compute bandpasses\n",
    "\n",
    "# sed_um_wave = spec_wave_ssp/1e4\n",
    "# sed_mJy_flux = spec_csp*1e3\n",
    "sed_um_wave = redsh_wave/1e4\n",
    "sed_mJy_flux = redsh_spec*1e3\n",
    "\n",
    "flux_survey, appmag_ext_survey, band_fluxes_survey = photometry_from_spectra(central_wavelengths, \n",
    "                                                                          sed_um_wave, \n",
    "                                                                          sed_mJy_flux, \n",
    "                                                                          bandpass_wavs, \n",
    "                                                                          bandpass_vals, \n",
    "                                                                          bandpass_names,\n",
    "                                                                          interp_kind='linear',\n",
    "                                                                          plot=True,\n",
    "                                                                          clip_bandpass=True)"
   ]
  },
  {
   "cell_type": "markdown",
   "metadata": {},
   "source": [
    "## Profiles of the galaxies can be checked too"
   ]
  },
  {
   "cell_type": "code",
   "execution_count": null,
   "metadata": {},
   "outputs": [],
   "source": [
    "def radial_luminosity_profile(data, \n",
    "                              num_bins=15):\n",
    "    # Calculate the radial distances for each point\n",
    "    \n",
    "    data[:, 0] = data[:, 0] - np.mean(data[:, 0])\n",
    "    data[:, 1] = data[:, 1] - np.mean(data[:, 1])\n",
    "    \n",
    "    r = np.sqrt(data[:, 0]**2 + data[:, 1]**2)\n",
    "    \n",
    "    # Bin data and sum luminosities within each bin\n",
    "    bin_edges = np.linspace(0, r.max(), num_bins+1)\n",
    "    luminosity, _ = np.histogram(r, bins=bin_edges, weights=data[:, 2])\n",
    "    \n",
    "    # Return the bin centers and corresponding luminosities\n",
    "    bin_centers = (bin_edges[:-1] + bin_edges[1:]) / 2\n",
    "    return bin_centers, luminosity\n",
    "\n",
    "def radial_mass_density_from_lum(data, \n",
    "                                 num_bins=15):\n",
    "    \n",
    "    data[:, 0] = data[:, 0] - np.mean(data[:, 0])\n",
    "    data[:, 1] = data[:, 1] - np.mean(data[:, 1])\n",
    "    \n",
    "    # Calculate the radial distances for each point\n",
    "    r = np.sqrt(data[:, 0]**2 + data[:, 1]**2)\n",
    "    \n",
    "    # Bin data and sum \"masses\" (luminosities) within each bin\n",
    "    bin_edges = np.linspace(0, r.max(), num_bins+1)\n",
    "    total_mass, _ = np.histogram(r, bins=bin_edges, weights=data[:, 3])\n",
    "    \n",
    "    # Calculate the area of each annulus: π(R_outer^2 - R_inner^2)\n",
    "    areas = np.pi * (bin_edges[1:]**2 - bin_edges[:-1]**2)\n",
    "    \n",
    "    # Compute mass density\n",
    "    mass_density = total_mass / areas\n",
    "    \n",
    "    # Return the bin centers and corresponding mass densities\n",
    "    bin_centers = (bin_edges[:-1] + bin_edges[1:]) / 2\n",
    "    return bin_centers, mass_density"
   ]
  },
  {
   "cell_type": "code",
   "execution_count": null,
   "metadata": {},
   "outputs": [],
   "source": [
    "gal_tag_cond = np.where(galaxy_tags == unique_galaxy_tag)\n",
    "\n",
    "x_select =  (x[gal_tag_cond])# - np.mean(x[gal_tag_cond]))/(np.max(x[gal_tag_cond]) - np.min(x[gal_tag_cond]))\n",
    "y_select =  (y[gal_tag_cond])# - np.mean(y[gal_tag_cond]))/(np.max(y[gal_tag_cond]) - np.min(y[gal_tag_cond]))\n",
    "\n",
    "z_select = np.trapz(spec_flux_ssp, spec_wave_ssp)\n",
    "m_select = mass[gal_tag_cond]"
   ]
  },
  {
   "cell_type": "code",
   "execution_count": null,
   "metadata": {},
   "outputs": [],
   "source": [
    "bin_centers, mass_densities_direct = radial_mass_density_from_lum(np.array([x_select, y_select, z_select, m_select]).T)\n",
    "\n",
    "# # Plotting the radial mass density profile (direct from luminosity)\n",
    "f, a = plt.subplots(1, 2, figsize=(14, 4))\n",
    "\n",
    "\n",
    "# Plotting the radial mass density profile\n",
    "a[0].plot(bin_centers, mass_densities_direct, '-ko', label='Mass Density Profile')\n",
    "a[0].set_xlabel('Radial Distance (kpc)')\n",
    "a[0].set_ylabel('Mass Density (M_solar/kpc^2)')\n",
    "a[0].set_title('Radial Mass Density Profile')\n",
    "a[0].legend()\n",
    "\n",
    "\n",
    "\n",
    "bin_centers, luminosities = radial_luminosity_profile(np.array([x_select, y_select, z_select, m_select]).T)\n",
    "\n",
    "# Plotting the radial luminosity profile\n",
    "a[1].plot(bin_centers, luminosities, '-ko', label='Luminosity Profile')\n",
    "a[1].set_xlabel('Radial Distance (kpc)')\n",
    "a[1].set_ylabel('Luminosity (Jansky)')\n",
    "a[1].set_title('Radial Luminosity Profile')\n",
    "a[1].legend()\n",
    "plt.show()"
   ]
  },
  {
   "cell_type": "code",
   "execution_count": null,
   "metadata": {},
   "outputs": [],
   "source": [
    "from scipy.ndimage import gaussian_filter"
   ]
  },
  {
   "cell_type": "code",
   "execution_count": null,
   "metadata": {},
   "outputs": [],
   "source": [
    "def canvas_plot(data, \n",
    "                canvas_size = 128, \n",
    "                gauss_sigma = 6):\n",
    "    \n",
    "    # Create a blank canvas\n",
    "    # size of the canvas for the image\n",
    "    canvas = np.zeros((canvas_size, canvas_size))\n",
    "\n",
    "    # Translate the x, y values to fit the canvas\n",
    "    x_scaled = ((data[:, 0] - data[:, 0].min()) / (data[:, 0].max() - data[:, 0].min()) * canvas_size).astype(int)\n",
    "    y_scaled = ((data[:, 1] - data[:, 1].min()) / (data[:, 1].max() - data[:, 1].min()) * canvas_size).astype(int)\n",
    "\n",
    "\n",
    "    # Adjust the scaling to ensure values are within the bounds of the canvas\n",
    "    x_scaled = np.clip(x_scaled, 0, canvas_size - 1)\n",
    "    y_scaled = np.clip(y_scaled, 0, canvas_size - 1)\n",
    "\n",
    "    # Reset the canvas\n",
    "    canvas = np.zeros((canvas_size, canvas_size))\n",
    "\n",
    "    # Place stars on the canvas using their luminosity\n",
    "    for x_ind, y_ind, quant_ind in zip(x_scaled, y_scaled, data[:, 2]):\n",
    "        canvas[y_ind, x_ind] += quant_ind\n",
    "\n",
    "    # Apply a Gaussian blur to emulate the glow of stars\n",
    "    blurred_canvas = gaussian_filter(canvas, sigma=gauss_sigma)\n",
    "    \n",
    "    return blurred_canvas"
   ]
  },
  {
   "cell_type": "code",
   "execution_count": null,
   "metadata": {},
   "outputs": [],
   "source": [
    "blurred_canvas_lum = canvas_plot(np.array([x_select, y_select, z_select]).T)\n",
    "blurred_canvas_mass = canvas_plot(np.array([x_select, y_select, m_select]).T)"
   ]
  },
  {
   "cell_type": "code",
   "execution_count": null,
   "metadata": {},
   "outputs": [],
   "source": [
    "f, a = plt.subplots(1, 2, figsize=(10, 4))\n",
    "cmap_select = 'magma'\n",
    "a[0].imshow(blurred_canvas_lum, cmap=cmap_select, origin='lower', extent=[x_select.min(), x_select.max(), y_select.min(), y_select.max()])\n",
    "# a[0].colorbar(label='Luminosity (Jansky)')\n",
    "a[0].set_title('Galaxy Luminosity Distribution')\n",
    "a[0].set_xlabel('x (Mpc)')\n",
    "a[0].set_ylabel('y (Mpc)')\n",
    "\n",
    "\n",
    "a[1].imshow(blurred_canvas_mass, cmap=cmap_select, origin='lower', extent=[x_select.min(), x_select.max(), y_select.min(), y_select.max()])\n",
    "# a[1].colorbar(label='Mass (Msol)')\n",
    "# a[1].scatter(x_scaled, y_scaled, s=1)\n",
    "a[1].set_title('Galaxy Mass Distribution')\n",
    "a[1].set_xlabel('x (Mpc)')\n",
    "a[1].set_ylabel('y (Mpc)')\n",
    "\n",
    "plt.tight_layout()\n",
    "plt.show()"
   ]
  },
  {
   "cell_type": "markdown",
   "metadata": {},
   "source": [
    "<!-- ### One can also find luminosity profiles for the simulated galaxies -->"
   ]
  },
  {
   "cell_type": "markdown",
   "metadata": {},
   "source": [
    "<!-- #### 1. First we project the luminosity on to grids -->"
   ]
  },
  {
   "cell_type": "code",
   "execution_count": null,
   "metadata": {},
   "outputs": [],
   "source": [
    "#| hide \n",
    "\n",
    "# gal_tag_cond = np.where(galaxy_tags == unique_galaxy_tag)\n",
    "\n",
    "# x_centered_scaled =  (x[gal_tag_cond] - np.min(x[gal_tag_cond]))/(np.max(x[gal_tag_cond]) - np.min(x[gal_tag_cond]))\n",
    "# y_centered_scaled =  (y[gal_tag_cond] - np.min(y[gal_tag_cond]))/(np.max(y[gal_tag_cond]) - np.min(y[gal_tag_cond]))\n",
    "\n",
    "x_centered_scaled =  (x[gal_tag_cond] - np.mean(x[gal_tag_cond]))/(np.max(x[gal_tag_cond]) - np.min(x[gal_tag_cond]))\n",
    "y_centered_scaled =  (y[gal_tag_cond] - np.mean(y[gal_tag_cond]))/(np.max(y[gal_tag_cond]) - np.min(y[gal_tag_cond]))\n",
    "\n",
    "nbins = 60\n",
    "\n",
    "\n",
    "xedges = np.linspace(x_centered_scaled.min(), x_centered_scaled.max(), nbins) \n",
    "yedges = np.linspace(y_centered_scaled.min(), y_centered_scaled.max(), nbins) \n",
    "\n",
    "\n",
    "H, xedges, yedges, binnumber = stats.binned_statistic_2d(x_centered_scaled, y_centered_scaled, \n",
    "                                                         None, 'count', bins=[xedges, yedges],\n",
    "                                                         expand_binnumbers=True)\n",
    "\n",
    "\n",
    "grid_flux = np.zeros_like(H)\n",
    "\n",
    "for idx, ssp_id in enumerate(gal_tag_cond[0]):\n",
    "    grid_flux[binnumber[:, idx][0]-1, binnumber[:, idx][1]-1] = np.trapz(spec_flux_ssp[idx], spec_wave_ssp)"
   ]
  },
  {
   "cell_type": "markdown",
   "metadata": {},
   "source": [
    "<!-- #### 2. Next we plot the stellar density and luminosity profiles -->"
   ]
  },
  {
   "cell_type": "code",
   "execution_count": null,
   "metadata": {},
   "outputs": [],
   "source": [
    "#| hide \n",
    "\n",
    "fig, ax = plt.subplots(1, 2, figsize=(14, 4))\n",
    "c_norm = mpl.colors.Normalize(vmin=1, vmax=np.max(H))\n",
    "c_map  = mpl.cm.coolwarm\n",
    "\n",
    "\n",
    "ax[0].set_title('Particle binning')\n",
    "\n",
    "im = ax[0].imshow(H, interpolation='nearest', origin='lower', \n",
    "                extent=[xedges[0], xedges[-1], yedges[0], yedges[-1]], \n",
    "                cmap=c_map)\n",
    "\n",
    "fig.colorbar(im, ax = ax[0], \n",
    "             orientation = 'vertical', \n",
    "             # label=r'stellar mass', pad=0.2)\n",
    "             label=r'stellar density', pad=0.2)\n",
    "\n",
    "\n",
    "# Normalize the array vals so they can be mapped to a color\n",
    "c_norm = mpl.colors.Normalize(vmin=np.min(grid_flux.min()), vmax=np.max(grid_flux))\n",
    "c_norm = mpl.colors.Normalize(vmin=0.004, vmax=np.max(grid_flux))\n",
    "\n",
    "# # Pick a colormap\n",
    "# c_map  = mpl.cm.magma\n",
    "\n",
    "\n",
    "ax[1].set_title('Luminosity profile')\n",
    "im = ax[1].imshow(grid_flux, interpolation='nearest', origin='lower', extent=[xedges[0], xedges[-1], yedges[0], yedges[-1]], cmap=c_map)\n",
    "\n",
    "# Adding the colorbar\n",
    "fig.colorbar(im, ax = ax[1], \n",
    "             orientation = 'vertical', \n",
    "             # label=r'stellar mass', pad=0.2)\n",
    "             label=r'Luminosity', pad=0.2)\n",
    "\n",
    "\n",
    "ax[0].set_xlabel('x[Mpc]')\n",
    "ax[0].set_ylabel('y[Mpc]')\n",
    "ax[1].set_xlabel('x[Mpc]')\n",
    "ax[1].set_ylabel('y[Mpc]')\n",
    "\n",
    "ax[0].set_aspect('equal', adjustable='box')\n",
    "ax[1].set_aspect('equal', adjustable='box')\n",
    "\n",
    "\n",
    "plt.show()"
   ]
  },
  {
   "cell_type": "markdown",
   "metadata": {},
   "source": [
    "<!-- ### Radial mass profile of the galaxy -->"
   ]
  },
  {
   "cell_type": "code",
   "execution_count": null,
   "metadata": {},
   "outputs": [],
   "source": [
    "#| hide \n",
    "\n",
    "def cart2pol(x, y):\n",
    "    rho = np.sqrt(x**2 + y**2)\n",
    "    phi = np.arctan2(y, x)\n",
    "    return(rho, phi)\n",
    "\n",
    "radius, azimut = cart2pol(x_centered_scaled, y_centered_scaled)\n",
    "azimut += np.pi\n",
    "\n",
    "# define binning\n",
    "rbins = np.linspace(0,radius.max(), 10)\n",
    "abins = np.linspace(0,2*np.pi, 2)\n",
    "\n",
    "\n",
    "subdivs = 40\n",
    "abins2 = np.linspace(0, 2 * np.pi, (len(abins) - 1) * subdivs + 1)\n",
    "\n",
    "\n",
    "\n",
    "#calculate histogram for mass density\n",
    "# hist, _, _ = np.histogram2d(azimut, radius, bins=(abins, rbins))\n",
    "hist, _, _, binnumbers = stats.binned_statistic_2d(azimut, radius, \n",
    "                                                         None, 'count', bins=[abins, rbins],\n",
    "                                                         expand_binnumbers=True)\n",
    "\n",
    "\n",
    "# Luminosity\n",
    "grid_flux_polar = np.zeros_like(hist)\n",
    "\n",
    "for idx, ssp_id in enumerate(gal_tag_cond[0]):\n",
    "    grid_flux_polar[binnumbers[:, idx][0]-1, binnumbers[:, idx][1]-1] = np.trapz(spec_flux_ssp[idx], spec_wave_ssp)\n",
    "    \n",
    "    \n",
    "    \n",
    "\n",
    "A, R = np.meshgrid(abins, rbins)\n",
    "A2, R2 = np.meshgrid(abins2, rbins)\n",
    "\n",
    "# plot\n",
    "\n",
    "fig = plt.figure(figsize=(14 , 14))\n",
    "ax0 = plt.subplot(221, projection=\"polar\")\n",
    "ax1 = plt.subplot(222)\n",
    "\n",
    "# pc = ax.pcolormesh(A, R, hist.T, cmap=\"magma_r\")\n",
    "pc2 = ax0.pcolormesh(A2, R2, np.repeat(hist.T, subdivs, axis=1), cmap='gist_heat_r')\n",
    "pc3 = ax0.scatter(azimut, radius, alpha=1, marker='o', s=1, color='k')\n",
    "fig.colorbar(pc2, ax=ax0)\n",
    "\n",
    "ax1.plot(0.5*(rbins[1:] + rbins[:-1]), np.sum(hist, axis=0));\n",
    "ax1.set_xlabel('Normalized radius')\n",
    "ax1.set_ylabel('Density')\n",
    "\n",
    "\n",
    "ax2 = plt.subplot(223, projection=\"polar\")\n",
    "ax3 = plt.subplot(224)\n",
    "\n",
    "# pc = ax.pcolormesh(A, R, hist.T, cmap=\"magma_r\")\n",
    "pc3 = ax2.pcolormesh(A2, R2, np.repeat(grid_flux_polar.T, subdivs, axis=1), cmap='gist_heat_r')\n",
    "pc4 = ax2.scatter(azimut, radius, alpha=1, marker='o', s=1, color='k')\n",
    "fig.colorbar(pc3, ax=ax2)\n",
    "\n",
    "ax3.plot(0.5*(rbins[1:] + rbins[:-1]), np.sum(grid_flux_polar, axis=0));\n",
    "ax3.set_xlabel('Normalized radius')\n",
    "ax3.set_ylabel('Luminosity')\n"
   ]
  },
  {
   "cell_type": "code",
   "execution_count": null,
   "metadata": {},
   "outputs": [],
   "source": [
    "#| hide \n",
    "\n",
    "from scipy.interpolate import griddata\n",
    "import scipy.ndimage as ndi"
   ]
  },
  {
   "cell_type": "code",
   "execution_count": null,
   "metadata": {},
   "outputs": [],
   "source": [
    "#| hide \n",
    "\n",
    "def azimuthalAverage(image, center=None):\n",
    "    \"\"\"\n",
    "    Calculate the azimuthally averaged radial profile.\n",
    "\n",
    "    image - The 2D image\n",
    "    center - The [x,y] pixel coordinates used as the center. The default is \n",
    "             None, which then uses the center of the image (including \n",
    "             fracitonal pixels).\n",
    "    \n",
    "    \"\"\"\n",
    "    # Calculate the indices from the image\n",
    "    y, x = np.indices(image.shape)\n",
    "\n",
    "    if not center:\n",
    "        center = np.array([(x.max()-x.min())/2.0, (y.max()-y.min())/2.0])\n",
    "\n",
    "    r = np.hypot(x - center[0], y - center[1])\n",
    "\n",
    "    # Get sorted radii\n",
    "    ind = np.argsort(r.flat)\n",
    "    r_sorted = r.flat[ind]\n",
    "    i_sorted = image.flat[ind]\n",
    "\n",
    "    # Get the integer part of the radii (bin size = 1)\n",
    "    r_int = r_sorted.astype(int)\n",
    "\n",
    "    # Find all pixels that fall within each radial bin.\n",
    "    deltar = r_int[1:] - r_int[:-1]  # Assumes all radii represented\n",
    "    rind = np.where(deltar)[0]       # location of changed radius\n",
    "    nr = rind[1:] - rind[:-1]        # number of radius bin\n",
    "    \n",
    "    # Cumulative sum to figure out sums for each radius bin\n",
    "    csim = np.cumsum(i_sorted, dtype=float)\n",
    "    tbin = csim[rind[1:]] - csim[rind[:-1]]\n",
    "\n",
    "    radial_prof = tbin / nr\n",
    "\n",
    "    return radial_prof"
   ]
  },
  {
   "cell_type": "code",
   "execution_count": null,
   "metadata": {},
   "outputs": [],
   "source": [
    "#| hide \n",
    "\n",
    "def radial_profile(data):\n",
    "    y, x = np.indices((data.shape)) # first determine radii of all pixels\n",
    "    \n",
    "    # x = xedges[0] + ((x - np.min(x))*(xedges[1] - xedges[0])/(np.max(x) - np.min(x)))\n",
    "    # y = yedges[0] + ((y - np.min(y))*(yedges[1] - yedges[0])/(np.max(y) - np.min(y)))\n",
    "    \n",
    "    center = np.array([(x.max()-x.min())/2.0, (y.max()-y.min())/2.0])\n",
    "    r = np.sqrt((x-center[0])**2+(y-center[1])**2)    \n",
    "\n",
    "    # radius of the image.\n",
    "    r_max = np.max(r) \n",
    "    print(r.min(), r.max())\n",
    "\n",
    "    ring_brightness, radius = np.histogram(r, weights=data, bins= np.int32(r_max/2))\n",
    "    # ring_brightness, radius = np.histogram(r, weights=data, bins= 10)\n",
    "    \n",
    "    \n",
    "    x2_prime = ((x-center[0])*(xedges[1] - xedges[0])/(x.max()-x.min()))**2\n",
    "    y2_prime = ((y-center[1])*(yedges[1] - yedges[0])/(y.max()-y.min()))**2\n",
    "    \n",
    "    r_prime = np.sqrt(x2_prime + y2_prime)\n",
    "\n",
    "    plt.plot(radius[1:], ring_brightness)\n",
    "    # plt.xlim(np.min(r), np.max(r))\n",
    "    plt.show()"
   ]
  },
  {
   "cell_type": "code",
   "execution_count": null,
   "metadata": {},
   "outputs": [],
   "source": [
    "#| hide \n",
    "\n",
    "radial_profile(H)\n",
    "radial_profile(grid_flux)"
   ]
  },
  {
   "cell_type": "code",
   "execution_count": null,
   "metadata": {},
   "outputs": [],
   "source": [
    "#| hide \n",
    "\n",
    "fig, ax = plt.subplots(1, 2, figsize=(13, 3))\n",
    "\n",
    "ax[0].plot(azimuthalAverage(H), '-', alpha=0.6)\n",
    "ax[1].plot(azimuthalAverage(grid_flux), '-', alpha=0.6)\n",
    "\n",
    "ax[0].set_ylabel('Stellar mass profile')\n",
    "ax[1].set_ylabel('Luminosity profile')"
   ]
  },
  {
   "cell_type": "markdown",
   "metadata": {},
   "source": [
    "<!-- ## Under the hood -->"
   ]
  },
  {
   "cell_type": "code",
   "execution_count": null,
   "metadata": {},
   "outputs": [],
   "source": [
    "#| hide \n",
    "\n",
    "# # convert array into dataframe\n",
    "# DF = pd.DataFrame(sample_data)\n",
    "\n",
    "# # save the dataframe as a csv file\n",
    "# DF.to_csv(\"data1.csv\", header=['x', 'y', 'luminosity', 'mass'])"
   ]
  }
 ],
 "metadata": {
  "kernelspec": {
   "display_name": "python3",
   "language": "python",
   "name": "python3"
  }
 },
 "nbformat": 4,
 "nbformat_minor": 4
}
