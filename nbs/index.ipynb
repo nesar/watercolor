{
 "cells": [
  {
   "cell_type": "code",
   "execution_count": null,
   "metadata": {},
   "outputs": [],
   "source": [
    "#| hide\n",
    "import matplotlib.pylab as plt\n",
    "import numpy as np\n",
    "import matplotlib as mpl\n",
    "from scipy import stats"
   ]
  },
  {
   "cell_type": "markdown",
   "metadata": {},
   "source": [
    "# WATERCOLOR\n",
    "\n",
    "> Painting Hydro simulations using Spectral Population Synthesis"
   ]
  },
  {
   "cell_type": "markdown",
   "metadata": {},
   "source": [
    "## Installation"
   ]
  },
  {
   "cell_type": "markdown",
   "metadata": {},
   "source": [
    "Temporary installation: \n",
    "```sh\n",
    "pip install git+https://github.com/nesar/watercolor.git\n",
    "```\n",
    "Future:\n",
    "```sh\n",
    "pip install watercolor\n",
    "```"
   ]
  },
  {
   "cell_type": "markdown",
   "metadata": {},
   "source": [
    "## Simple implementation to HACC hydro data"
   ]
  },
  {
   "cell_type": "markdown",
   "metadata": {},
   "source": [
    "#### 1. First we import the following modules of hydro_colors "
   ]
  },
  {
   "cell_type": "code",
   "execution_count": null,
   "metadata": {},
   "outputs": [],
   "source": [
    "import watercolor\n",
    "from watercolor.load_sim_stellar_catalog import load_hacc_galaxy_data\n",
    "from watercolor.calculate_csp import calc_fluxes_for_galaxy\n",
    "from watercolor.load_sps_library import STELLAR_LIBRARY_DIR\n",
    "from watercolor.dust_attenuation import spectrum_dusted\n",
    "from watercolor.cosmic_distance_effects import combine_redshift_and_dimming_effect\n",
    "from watercolor.filter_convolution import load_survey_filters, photometry_from_spectra\n",
    "from watercolor.filter_convolution import ALL_FILTER_DIR"
   ]
  },
  {
   "cell_type": "markdown",
   "metadata": {},
   "source": [
    "#### 2. Then the galaxy-star catalog from HACC is loaded"
   ]
  },
  {
   "cell_type": "code",
   "execution_count": null,
   "metadata": {},
   "outputs": [],
   "source": [
    "galaxy_star_catalog_file = '../watercolor/data/test_hacc_stellar_catalog/Gals_Z0_576.txt'\n",
    "galaxy_tags, stellar_idx, metal_hydro, mass, age_hydro, x, y, z , vx, vy, vz = watercolor.load_sim_stellar_catalog.load_hacc_galaxy_data(galaxy_star_catalog_file)"
   ]
  },
  {
   "cell_type": "markdown",
   "metadata": {},
   "source": [
    "#### 3. After selecting a unique galaxy tag, we calculate the SED. This is the rest-frame SED is due to spectral emission alone, and without dust attenuation.  "
   ]
  },
  {
   "cell_type": "code",
   "execution_count": null,
   "metadata": {},
   "outputs": [],
   "source": [
    "galaxy_number = 4\n",
    "unique_galaxy_tag = np.unique(galaxy_tags)[galaxy_number]\n",
    "print('Number of galaxies: %d'%np.unique(galaxy_tags).shape[0])\n",
    "\n",
    "spec_wave_ssp, spec_flux_ssp, spec_csp, flux_proxy, gal_stellar_mass = watercolor.calculate_csp.calc_fluxes_for_galaxy(galaxy_star_catalog_file,\n",
    "                                                                                                               unique_galaxy_tag,\n",
    "                                                                                                               STELLAR_LIBRARY_DIR)"
   ]
  },
  {
   "cell_type": "markdown",
   "metadata": {},
   "source": [
    "#### 4. Finally, we plot SEDs from both SSPs and CSPs"
   ]
  },
  {
   "cell_type": "code",
   "execution_count": null,
   "metadata": {},
   "outputs": [],
   "source": [
    "fig, a = plt.subplots(2,1, figsize=(14, 12), sharex=True, sharey=False)\n",
    "c_norm = mpl.colors.Normalize(vmin=np.min(flux_proxy), vmax=np.max(flux_proxy))\n",
    "c_map  = mpl.cm.coolwarm\n",
    "\n",
    "s_map  = mpl.cm.ScalarMappable(cmap=c_map, norm=c_norm)\n",
    "s_map.set_array([])\n",
    "\n",
    "\n",
    "for idx in range(spec_flux_ssp.shape[0]):\n",
    "    \n",
    "    # spec_flux_ssp[idx] = spec_ssp(age_hydro[ssp_id], metal_hydro[ssp_id], mass[ssp_id])\n",
    "    a[0].plot(spec_wave_ssp, spec_flux_ssp[idx], \n",
    "              # color=s_map.to_rgba(np.log10(mass[ssp_id])), \n",
    "              color=s_map.to_rgba(flux_proxy[idx]), \n",
    "              alpha=0.5)\n",
    "\n",
    "fig.colorbar(s_map, ax = a[0], \n",
    "             orientation = 'horizontal', \n",
    "             # label=r'stellar mass', pad=0.2)\n",
    "             label=r'flux proxy', pad=0.2)\n",
    "    \n",
    "\n",
    "#####################################################################\n",
    "\n",
    "a[1].plot(spec_wave_ssp, spec_csp)\n",
    "\n",
    "\n",
    "# a[0].set_ylim(1e-9, 1e-6)\n",
    "# a[0].set_yscale('log')\n",
    "# a[1].set_yscale('log')\n",
    "# a[1].set_xscale('log')\n",
    "a[1].set_xlim(3e3, 1e4)\n",
    "\n",
    "\n",
    "a[0].set_xlabel(r'${\\rm wavelength\\ [\\AA]}$', fontsize = 'x-large')\n",
    "a[1].set_xlabel(r'${\\rm wavelength\\ [\\AA]}$', fontsize = 'x-large')\n",
    "a[0].set_ylabel(r'$L_{\\rm SSP}(\\lambda)\\ {\\rm [L_{\\odot}/\\AA]}$', fontsize = 'x-large')\n",
    "a[1].set_ylabel(r'$L_{\\rm CSP}(\\lambda)\\ {\\rm [L_{\\odot}/\\AA]}$', fontsize = 'x-large')\n",
    "\n",
    "\n",
    "plt.show()"
   ]
  },
  {
   "cell_type": "markdown",
   "metadata": {},
   "source": [
    "#### 5. CSPs are attenuation due to dust"
   ]
  },
  {
   "cell_type": "code",
   "execution_count": null,
   "metadata": {},
   "outputs": [],
   "source": [
    "logmstar = np.array([np.log10( np.sum(mass[galaxy_tags == unique_galaxy_tag]))])\n",
    "logZ = np.array([np.sum(metal_hydro[galaxy_tags == unique_galaxy_tag])])\n",
    "\n",
    "\n",
    "spec_wave_csp_dusted = spectrum_dusted(spec_csp, spec_wave_ssp, logmstar, logZ, 0.001)"
   ]
  },
  {
   "cell_type": "code",
   "execution_count": null,
   "metadata": {},
   "outputs": [],
   "source": [
    "f, a = plt.subplots(1, 1, figsize=(12, 3))\n",
    "a.plot(spec_wave_ssp, spec_csp, label='No dust')\n",
    "a.plot(spec_wave_ssp, spec_wave_csp_dusted, label='With dust attenuation')\n",
    "\n",
    "a.set_xlim(3e3, 1e4)\n",
    "\n",
    "a.set_xlabel(r'${\\rm wavelength\\ [\\AA]}$', fontsize = 'x-large')\n",
    "a.set_ylabel(r'$L_{\\rm CSP}(\\lambda)\\ {\\rm [L_{\\odot}/\\AA]}$', fontsize = 'x-large')\n",
    "a.legend(fontsize='x-large')"
   ]
  },
  {
   "cell_type": "markdown",
   "metadata": {},
   "source": [
    "#### 6. The resulting dust attenuated spectra undergoes cosmic dimming and redshifting "
   ]
  },
  {
   "cell_type": "code",
   "execution_count": null,
   "metadata": {},
   "outputs": [],
   "source": [
    "redsh_wave, redsh_spec = combine_redshift_and_dimming_effect(wave=spec_wave_ssp, \n",
    "                                                             spec=spec_wave_csp_dusted, \n",
    "                                                             galaxy_redshift=0.001)"
   ]
  },
  {
   "cell_type": "code",
   "execution_count": null,
   "metadata": {},
   "outputs": [],
   "source": [
    "f, a = plt.subplots(1, 1, figsize=(12, 3))\n",
    "a.plot(spec_wave_ssp, spec_csp, label='Pre-distance effects')\n",
    "a.plot(redsh_wave, redsh_spec*1e6, label='Redshift and dimming')\n",
    "\n",
    "\n",
    "\n",
    "# a.set_xlim(3e3, 1e4)\n",
    "a.set_xlim(3e3, 1e6)\n",
    "\n",
    "a.set_xscale('log')\n",
    "# a.set_yscale('log')\n",
    "\n",
    "a.set_xlabel(r'${\\rm wavelength\\ [\\AA]}$', fontsize = 'x-large')\n",
    "a.set_ylabel(r'$L_{\\rm CSP}(\\lambda)\\ {\\rm [L_{\\odot}/\\AA]}$', fontsize = 'x-large')\n",
    "a.legend(fontsize='x-large')"
   ]
  },
  {
   "cell_type": "markdown",
   "metadata": {},
   "source": [
    "#### 7. The final spectrum is convolved with telescope transmission curves to obtain magnitudes"
   ]
  },
  {
   "cell_type": "code",
   "execution_count": null,
   "metadata": {},
   "outputs": [],
   "source": [
    "##### Load survey filters \n",
    "\n",
    "SURVEY_STRING = 'SPHEREx'\n",
    "central_wavelengths, bandpass_wavs, bandpass_vals, bandpass_names = load_survey_filters(filtdir=ALL_FILTER_DIR+SURVEY_STRING, \n",
    "                                                                                        to_um=True)\n",
    "\n",
    "\n",
    "##### Compute bandpasses\n",
    "\n",
    "# sed_um_wave = spec_wave_ssp/1e4\n",
    "# sed_mJy_flux = spec_csp*1e3\n",
    "sed_um_wave = redsh_wave/1e4\n",
    "sed_mJy_flux = redsh_spec*1e3\n",
    "\n",
    "flux_survey, appmag_ext_survey_satellite, band_fluxes_survey = photometry_from_spectra(central_wavelengths, \n",
    "                                                                          sed_um_wave, \n",
    "                                                                          sed_mJy_flux, \n",
    "                                                                          bandpass_wavs, \n",
    "                                                                          bandpass_vals, \n",
    "                                                                          bandpass_names,\n",
    "                                                                          interp_kind='linear',\n",
    "                                                                          plot=True,\n",
    "                                                                          clip_bandpass=True)\n",
    "\n",
    "survey_mags = appmag_ext_survey_satellite"
   ]
  },
  {
   "cell_type": "code",
   "execution_count": null,
   "metadata": {},
   "outputs": [],
   "source": []
  },
  {
   "cell_type": "markdown",
   "metadata": {},
   "source": [
    "### One can also find luminosity profiles for the simulated galaxies"
   ]
  },
  {
   "cell_type": "markdown",
   "metadata": {},
   "source": [
    "#### 1. First we project the luminosity on to grids"
   ]
  },
  {
   "cell_type": "code",
   "execution_count": null,
   "metadata": {},
   "outputs": [],
   "source": [
    "#| hide \n",
    "\n",
    "# xedges = np.linspace(x[gal_tag_cond].min(), x[gal_tag_cond].max(), nbins) \n",
    "# yedges = np.linspace(y[gal_tag_cond].min(), y[gal_tag_cond].max(), nbins) \n",
    "\n",
    "# # H, xedges, yedges = np.histogram2d(x[gal_tag_cond], y[gal_tag_cond], bins=(xedges, yedges))\n",
    "\n",
    "\n",
    "# H, xedges, yedges, binnumber = stats.binned_statistic_2d(x[gal_tag_cond], y[gal_tag_cond], \n",
    "#                                                          None, 'count', bins=[xedges, yedges],\n",
    "#                                                          expand_binnumbers=True)\n"
   ]
  },
  {
   "cell_type": "code",
   "execution_count": null,
   "metadata": {},
   "outputs": [],
   "source": [
    "gal_tag_cond = np.where(galaxy_tags == unique_galaxy_tag)\n",
    "\n",
    "# x_centered_scaled =  (x[gal_tag_cond] - np.min(x[gal_tag_cond]))/(np.max(x[gal_tag_cond]) - np.min(x[gal_tag_cond]))\n",
    "# y_centered_scaled =  (y[gal_tag_cond] - np.min(y[gal_tag_cond]))/(np.max(y[gal_tag_cond]) - np.min(y[gal_tag_cond]))\n",
    "\n",
    "x_centered_scaled =  (x[gal_tag_cond] - np.mean(x[gal_tag_cond]))/(np.max(x[gal_tag_cond]) - np.min(x[gal_tag_cond]))\n",
    "y_centered_scaled =  (y[gal_tag_cond] - np.mean(y[gal_tag_cond]))/(np.max(y[gal_tag_cond]) - np.min(y[gal_tag_cond]))\n",
    "\n",
    "nbins = 60\n",
    "\n",
    "\n",
    "xedges = np.linspace(x_centered_scaled.min(), x_centered_scaled.max(), nbins) \n",
    "yedges = np.linspace(y_centered_scaled.min(), y_centered_scaled.max(), nbins) \n",
    "\n",
    "\n",
    "H, xedges, yedges, binnumber = stats.binned_statistic_2d(x_centered_scaled, y_centered_scaled, \n",
    "                                                         None, 'count', bins=[xedges, yedges],\n",
    "                                                         expand_binnumbers=True)\n",
    "\n",
    "\n",
    "grid_flux = np.zeros_like(H)\n",
    "\n",
    "for idx, ssp_id in enumerate(gal_tag_cond[0]):\n",
    "    grid_flux[binnumber[:, idx][0]-1, binnumber[:, idx][1]-1] = np.trapz(spec_flux_ssp[idx], spec_wave_ssp)"
   ]
  },
  {
   "cell_type": "markdown",
   "metadata": {},
   "source": [
    "#### 2. Next we plot the stellar density and luminosity profiles"
   ]
  },
  {
   "cell_type": "code",
   "execution_count": null,
   "metadata": {},
   "outputs": [],
   "source": [
    "fig, ax = plt.subplots(1, 2, figsize=(14, 4))\n",
    "c_norm = mpl.colors.Normalize(vmin=1, vmax=np.max(H))\n",
    "c_map  = mpl.cm.coolwarm\n",
    "\n",
    "\n",
    "ax[0].set_title('Particle binning')\n",
    "\n",
    "im = ax[0].imshow(H, interpolation='nearest', origin='lower', \n",
    "                extent=[xedges[0], xedges[-1], yedges[0], yedges[-1]], \n",
    "                cmap=c_map)\n",
    "\n",
    "fig.colorbar(im, ax = ax[0], \n",
    "             orientation = 'vertical', \n",
    "             # label=r'stellar mass', pad=0.2)\n",
    "             label=r'stellar density', pad=0.2)\n",
    "\n",
    "\n",
    "# Normalize the array vals so they can be mapped to a color\n",
    "c_norm = mpl.colors.Normalize(vmin=np.min(grid_flux.min()), vmax=np.max(grid_flux))\n",
    "c_norm = mpl.colors.Normalize(vmin=0.004, vmax=np.max(grid_flux))\n",
    "\n",
    "# # Pick a colormap\n",
    "# c_map  = mpl.cm.magma\n",
    "\n",
    "\n",
    "ax[1].set_title('Luminosity profile')\n",
    "im = ax[1].imshow(grid_flux, interpolation='nearest', origin='lower', extent=[xedges[0], xedges[-1], yedges[0], yedges[-1]], cmap=c_map)\n",
    "\n",
    "# Adding the colorbar\n",
    "fig.colorbar(im, ax = ax[1], \n",
    "             orientation = 'vertical', \n",
    "             # label=r'stellar mass', pad=0.2)\n",
    "             label=r'Luminosity', pad=0.2)\n",
    "\n",
    "\n",
    "ax[0].set_xlabel('x[Mpc]')\n",
    "ax[0].set_ylabel('y[Mpc]')\n",
    "ax[1].set_xlabel('x[Mpc]')\n",
    "ax[1].set_ylabel('y[Mpc]')\n",
    "\n",
    "ax[0].set_aspect('equal', adjustable='box')\n",
    "ax[1].set_aspect('equal', adjustable='box')\n",
    "\n",
    "\n",
    "plt.show()"
   ]
  },
  {
   "cell_type": "markdown",
   "metadata": {},
   "source": [
    "### Radial mass profile of the galaxy"
   ]
  },
  {
   "cell_type": "code",
   "execution_count": null,
   "metadata": {},
   "outputs": [],
   "source": [
    "def cart2pol(x, y):\n",
    "    rho = np.sqrt(x**2 + y**2)\n",
    "    phi = np.arctan2(y, x)\n",
    "    return(rho, phi)\n",
    "\n",
    "radius, azimut = cart2pol(x_centered_scaled, y_centered_scaled)\n",
    "azimut += np.pi\n",
    "\n",
    "# define binning\n",
    "rbins = np.linspace(0,radius.max(), 10)\n",
    "abins = np.linspace(0,2*np.pi, 2)\n",
    "\n",
    "\n",
    "subdivs = 40\n",
    "abins2 = np.linspace(0, 2 * np.pi, (len(abins) - 1) * subdivs + 1)\n",
    "\n",
    "\n",
    "\n",
    "#calculate histogram for mass density\n",
    "# hist, _, _ = np.histogram2d(azimut, radius, bins=(abins, rbins))\n",
    "hist, _, _, binnumbers = stats.binned_statistic_2d(azimut, radius, \n",
    "                                                         None, 'count', bins=[abins, rbins],\n",
    "                                                         expand_binnumbers=True)\n",
    "\n",
    "\n",
    "# Luminosity\n",
    "grid_flux_polar = np.zeros_like(hist)\n",
    "\n",
    "for idx, ssp_id in enumerate(gal_tag_cond[0]):\n",
    "    grid_flux_polar[binnumbers[:, idx][0]-1, binnumbers[:, idx][1]-1] = np.trapz(spec_flux_ssp[idx], spec_wave_ssp)\n",
    "    \n",
    "    \n",
    "    \n",
    "\n",
    "A, R = np.meshgrid(abins, rbins)\n",
    "A2, R2 = np.meshgrid(abins2, rbins)\n",
    "\n",
    "# plot\n",
    "\n",
    "fig = plt.figure(figsize=(14 , 14))\n",
    "ax0 = plt.subplot(221, projection=\"polar\")\n",
    "ax1 = plt.subplot(222)\n",
    "\n",
    "# pc = ax.pcolormesh(A, R, hist.T, cmap=\"magma_r\")\n",
    "pc2 = ax0.pcolormesh(A2, R2, np.repeat(hist.T, subdivs, axis=1), cmap='gist_heat_r')\n",
    "pc3 = ax0.scatter(azimut, radius, alpha=1, marker='o', s=1, color='k')\n",
    "fig.colorbar(pc2, ax=ax0)\n",
    "\n",
    "ax1.plot(0.5*(rbins[1:] + rbins[:-1]), np.sum(hist, axis=0));\n",
    "ax1.set_xlabel('Normalized radius')\n",
    "ax1.set_ylabel('Density')\n",
    "\n",
    "\n",
    "ax2 = plt.subplot(223, projection=\"polar\")\n",
    "ax3 = plt.subplot(224)\n",
    "\n",
    "# pc = ax.pcolormesh(A, R, hist.T, cmap=\"magma_r\")\n",
    "pc3 = ax2.pcolormesh(A2, R2, np.repeat(grid_flux_polar.T, subdivs, axis=1), cmap='gist_heat_r')\n",
    "pc4 = ax2.scatter(azimut, radius, alpha=1, marker='o', s=1, color='k')\n",
    "fig.colorbar(pc3, ax=ax2)\n",
    "\n",
    "ax3.plot(0.5*(rbins[1:] + rbins[:-1]), np.sum(grid_flux_polar, axis=0));\n",
    "ax3.set_xlabel('Normalized radius')\n",
    "ax3.set_ylabel('Luminosity')\n"
   ]
  },
  {
   "cell_type": "code",
   "execution_count": null,
   "metadata": {},
   "outputs": [],
   "source": [
    "#| hide \n",
    "\n",
    "x_select =  (x[gal_tag_cond])# - np.mean(x[gal_tag_cond]))/(np.max(x[gal_tag_cond]) - np.min(x[gal_tag_cond]))\n",
    "y_select =  (y[gal_tag_cond])# - np.mean(y[gal_tag_cond]))/(np.max(y[gal_tag_cond]) - np.min(y[gal_tag_cond]))\n",
    "\n",
    "z_select = np.trapz(spec_flux_ssp, spec_wave_ssp)"
   ]
  },
  {
   "cell_type": "code",
   "execution_count": null,
   "metadata": {},
   "outputs": [],
   "source": [
    "#| hide \n",
    "\n",
    "from scipy.interpolate import griddata\n",
    "import scipy.ndimage as ndi"
   ]
  },
  {
   "cell_type": "code",
   "execution_count": null,
   "metadata": {},
   "outputs": [],
   "source": [
    "#| hide \n",
    "\n",
    "x_unique = np.sort(x_select)\n",
    "y_unique = np.sort(y_select)\n",
    "x_grid, y_grid = np.meshgrid(x_unique, y_unique)\n",
    "z_grid = griddata( np.array([x_select, y_select]).T, z_select, (x_grid, y_grid), method='nearest')\n",
    "\n",
    "# Apply gaussian filter\n",
    "sigma = [20, 20]\n",
    "z_grid = ndi.filters.gaussian_filter(z_grid, sigma, mode='constant')\n",
    "\n",
    "\n",
    "plt.figure(figsize=(5, 5))\n",
    "plt.contourf(x_grid, y_grid, z_grid, levels=np.linspace(np.min(z_select), np.max(z_select), 10), cmap=mpl.cm.coolwarm)\n",
    "# plt.colormesh(x_grid, y_grid, z_grid, cmap=c_map)\n",
    "plt.scatter(x_select, y_select, alpha=1, marker='o', s=1, color='k')"
   ]
  },
  {
   "cell_type": "code",
   "execution_count": null,
   "metadata": {},
   "outputs": [],
   "source": [
    "#| hide \n",
    "\n",
    "plt.imshow(z_grid, extent=[np.min(x_select), np.max(x_select), np.min(y_select), np.max(y_select)])\n",
    "# plt.scatter(x_select, y_select, alpha=1, marker='o', s=1, color='k')"
   ]
  },
  {
   "cell_type": "code",
   "execution_count": null,
   "metadata": {},
   "outputs": [],
   "source": [
    "def azimuthalAverage(image, center=None):\n",
    "    \"\"\"\n",
    "    Calculate the azimuthally averaged radial profile.\n",
    "\n",
    "    image - The 2D image\n",
    "    center - The [x,y] pixel coordinates used as the center. The default is \n",
    "             None, which then uses the center of the image (including \n",
    "             fracitonal pixels).\n",
    "    \n",
    "    \"\"\"\n",
    "    # Calculate the indices from the image\n",
    "    y, x = np.indices(image.shape)\n",
    "\n",
    "    if not center:\n",
    "        center = np.array([(x.max()-x.min())/2.0, (y.max()-y.min())/2.0])\n",
    "\n",
    "    r = np.hypot(x - center[0], y - center[1])\n",
    "\n",
    "    # Get sorted radii\n",
    "    ind = np.argsort(r.flat)\n",
    "    r_sorted = r.flat[ind]\n",
    "    i_sorted = image.flat[ind]\n",
    "\n",
    "    # Get the integer part of the radii (bin size = 1)\n",
    "    r_int = r_sorted.astype(int)\n",
    "\n",
    "    # Find all pixels that fall within each radial bin.\n",
    "    deltar = r_int[1:] - r_int[:-1]  # Assumes all radii represented\n",
    "    rind = np.where(deltar)[0]       # location of changed radius\n",
    "    nr = rind[1:] - rind[:-1]        # number of radius bin\n",
    "    \n",
    "    # Cumulative sum to figure out sums for each radius bin\n",
    "    csim = np.cumsum(i_sorted, dtype=float)\n",
    "    tbin = csim[rind[1:]] - csim[rind[:-1]]\n",
    "\n",
    "    radial_prof = tbin / nr\n",
    "\n",
    "    return radial_prof"
   ]
  },
  {
   "cell_type": "code",
   "execution_count": null,
   "metadata": {},
   "outputs": [],
   "source": [
    "#| hide \n",
    "\n",
    "def radial_profile(data):\n",
    "    y, x = np.indices((data.shape)) # first determine radii of all pixels\n",
    "    \n",
    "    # x = xedges[0] + ((x - np.min(x))*(xedges[1] - xedges[0])/(np.max(x) - np.min(x)))\n",
    "    # y = yedges[0] + ((y - np.min(y))*(yedges[1] - yedges[0])/(np.max(y) - np.min(y)))\n",
    "    \n",
    "    center = np.array([(x.max()-x.min())/2.0, (y.max()-y.min())/2.0])\n",
    "    r = np.sqrt((x-center[0])**2+(y-center[1])**2)    \n",
    "\n",
    "    # radius of the image.\n",
    "    r_max = np.max(r) \n",
    "    print(r.min(), r.max())\n",
    "\n",
    "    ring_brightness, radius = np.histogram(r, weights=data, bins= np.int32(r_max/2))\n",
    "    # ring_brightness, radius = np.histogram(r, weights=data, bins= 10)\n",
    "    \n",
    "    \n",
    "    x2_prime = ((x-center[0])*(xedges[1] - xedges[0])/(x.max()-x.min()))**2\n",
    "    y2_prime = ((y-center[1])*(yedges[1] - yedges[0])/(y.max()-y.min()))**2\n",
    "    \n",
    "    r_prime = np.sqrt(x2_prime + y2_prime)\n",
    "\n",
    "    plt.plot(radius[1:], ring_brightness)\n",
    "    # plt.xlim(np.min(r), np.max(r))\n",
    "    plt.show()"
   ]
  },
  {
   "cell_type": "code",
   "execution_count": null,
   "metadata": {},
   "outputs": [],
   "source": [
    "#| hide \n",
    "\n",
    "radial_profile(H)\n",
    "\n",
    "radial_profile(grid_flux)"
   ]
  },
  {
   "cell_type": "code",
   "execution_count": null,
   "metadata": {},
   "outputs": [],
   "source": [
    "fig, ax = plt.subplots(1, 2, figsize=(13, 3))\n",
    "\n",
    "ax[0].plot(azimuthalAverage(H), '-', alpha=0.6)\n",
    "ax[1].plot(azimuthalAverage(grid_flux), '-', alpha=0.6)\n",
    "\n",
    "ax[0].set_ylabel('Stellar mass profile')\n",
    "ax[1].set_ylabel('Luminosity profile')"
   ]
  },
  {
   "cell_type": "markdown",
   "metadata": {},
   "source": [
    "## Under the hood"
   ]
  },
  {
   "cell_type": "code",
   "execution_count": null,
   "metadata": {},
   "outputs": [],
   "source": [
    "from watercolor.load_sps_library import *\n",
    "from watercolor.load_sim_stellar_catalog import *"
   ]
  },
  {
   "cell_type": "code",
   "execution_count": null,
   "metadata": {},
   "outputs": [],
   "source": [
    "spec_flux, spec_wave = load_fsps_spectral_library()\n",
    "age_fsps_gyr, Z_padova_fsps = load_fsps_age_metallicity()\n",
    "gal_tag, stellar_idx, metal_hydro, mass, age_hydro, x, y, z, vx, vy, vz = load_hacc_galaxy_data()\n",
    "\n",
    "\n",
    "f, a = plt.subplots(1,2, figsize=(14, 3))\n",
    "a[0].hist(metal_hydro, bins = 100, histtype='step', lw=5, label='Z=0 hydro');\n",
    "[a[0].axvline(_x, linewidth=1, color='r', alpha=0.5) for _x in Z_padova_fsps];\n",
    "a[0].legend()\n",
    "a[0].set_xlabel('log(z/zsol)')\n",
    "\n",
    "\n",
    "a[1].hist(age_hydro, bins = 100, histtype='step', lw=5, label='Z=0 hydro');\n",
    "[a[1].axvline(_x, linewidth=1, color='r', alpha=0.5) for _x in age_fsps_gyr];\n",
    "a[1].legend()\n",
    "a[1].set_xlabel('age')\n",
    "\n",
    "plt.show()"
   ]
  },
  {
   "cell_type": "code",
   "execution_count": null,
   "metadata": {},
   "outputs": [],
   "source": []
  }
 ],
 "metadata": {
  "kernelspec": {
   "display_name": "python3",
   "language": "python",
   "name": "python3"
  }
 },
 "nbformat": 4,
 "nbformat_minor": 4
}
