{
 "cells": [
  {
   "cell_type": "markdown",
   "metadata": {},
   "source": [
    "# Module: Paint\n",
    "\n",
    ">  All the modules put together. The module takes galaxy catalog as input and outputs SED along with photometry "
   ]
  },
  {
   "cell_type": "code",
   "execution_count": null,
   "metadata": {},
   "outputs": [],
   "source": [
    "#| default_exp paint"
   ]
  },
  {
   "cell_type": "code",
   "execution_count": null,
   "metadata": {},
   "outputs": [],
   "source": [
    "#| hide\n",
    "\n",
    "import matplotlib.pylab as plt\n",
    "import matplotlib as mpl"
   ]
  },
  {
   "cell_type": "markdown",
   "metadata": {},
   "source": [
    "#### 1. First we import the following modules of hydro_colors "
   ]
  },
  {
   "cell_type": "code",
   "execution_count": null,
   "metadata": {},
   "outputs": [],
   "source": [
    "#| export\n",
    "\n",
    "import watercolor\n",
    "from watercolor.load_sim_stellar_catalog import load_hacc_galaxy_data\n",
    "from watercolor.calculate_csp import calc_fluxes_for_galaxy\n",
    "from watercolor.load_sps_library import LIBRARY_FLUX_FILE, LIBRARY_WAVE_FILE, LIBRARY_AGE_FILE, LIBRARY_METAL_FILE\n",
    "from watercolor.dust_attenuation import spectrum_dusted, log_total_stellar_metal, log_total_stellar_mass\n",
    "from watercolor.cosmic_distance_effects import combine_redshift_and_dimming_effect\n",
    "from watercolor.filter_convolution import load_survey_pickle, photometry_from_spectra"
   ]
  },
  {
   "cell_type": "code",
   "execution_count": null,
   "metadata": {},
   "outputs": [],
   "source": [
    "#| export \n",
    "\n",
    "import numpy as np"
   ]
  },
  {
   "cell_type": "code",
   "execution_count": null,
   "metadata": {},
   "outputs": [],
   "source": [
    "#| export\n",
    "\n",
    "def photometry_from_catalog(galaxy_star_catalog_file:str='../watercolor/data/test_hacc_stellar_catalog/Gals_Z0_576.txt', # Input galaxy catalog\n",
    "                           )->tuple:# [SED, wavelengths, broadband magnitudes from lsst, cosmos, spherex]\n",
    "    \n",
    "    # load catalog from HACC\n",
    "    galaxy_tags, stellar_idx, metal_hydro, mass, age_hydro, x, y, z , vx, vy, vz = load_hacc_galaxy_data(galaxy_star_catalog_file)\n",
    "    num_galaxies_in_catalog = np.unique(galaxy_tags).shape[0]\n",
    "    print('Number of galaxies: %d'%num_galaxies_in_catalog)\n",
    "\n",
    "    \n",
    "    final_sed_uJy = np.zeros(shape=(num_galaxies_in_catalog, 1963)) ## SED resolution is 1963\n",
    "    final_wave_um = np.zeros(shape=(num_galaxies_in_catalog, 1963)) ## SED resolution is 1963\n",
    "    lsst_mags = np.zeros(shape=(num_galaxies_in_catalog, 6)) ## 6 LSST bands\n",
    "    spherex_mags = np.zeros(shape=(num_galaxies_in_catalog, 197)) ## 197 SPHEREx channels\n",
    "    cosmos_mags = np.zeros(shape=(num_galaxies_in_catalog, 31)) ## 31 COSMOS bands\n",
    "    \n",
    "    for galaxy_number in range(np.unique(galaxy_tags).shape[0]):\n",
    "        # Go through all the galaxies in the catalog (the unique galaxy tags)\n",
    "    \n",
    "        unique_galaxy_tag = np.unique(galaxy_tags)[galaxy_number]\n",
    "\n",
    "        mstar_i = mass[galaxy_tags == unique_galaxy_tag]\n",
    "        metal_i = metal_hydro[galaxy_tags == unique_galaxy_tag]\n",
    "\n",
    "        logZ = log_total_stellar_metal(metal_i, mstar_i)\n",
    "        logmstar = log_total_stellar_mass(mstar_i)\n",
    "        \n",
    "        # We now calculate the SED. This is the rest-frame SED is due to spectral emission alone, and without dust attenuation.\n",
    "        spec_wave_ssp, spec_flux_ssp, spec_csp, flux_proxy, gal_stellar_mass = calc_fluxes_for_galaxy(galaxy_star_catalog_file,\n",
    "                                                                                                                               unique_galaxy_tag,\n",
    "                                                                                                                               LIBRARY_FLUX_FILE,\n",
    "                                                                                                                               LIBRARY_WAVE_FILE,\n",
    "                                                                                                                               LIBRARY_AGE_FILE,\n",
    "                                                                                                                               LIBRARY_METAL_FILE)\n",
    "        # Dust attenuation\n",
    "        spec_wave_csp_dusted = spectrum_dusted(spec_csp, spec_wave_ssp, logmstar, logZ, 0.01)\n",
    "        \n",
    "        # Cosmic redshifting and dimming\n",
    "        redsh_wave, redsh_spec = combine_redshift_and_dimming_effect(wave=spec_wave_ssp, \n",
    "                                                             spec=spec_wave_csp_dusted, \n",
    "                                                             galaxy_redshift=0.001)\n",
    "        \n",
    "        sed_um_wave = redsh_wave/1e4\n",
    "        sed_mJy_flux = redsh_spec*1e3\n",
    "        \n",
    "        # Filter convolution - LSST\n",
    "        central_wavelengths, bandpass_wavs, bandpass_vals, bandpass_names = load_survey_pickle('LSST')\n",
    "        \n",
    "        _, appmag_ext_lsst, _ = photometry_from_spectra(central_wavelengths, \n",
    "                                                        sed_um_wave, \n",
    "                                                        sed_mJy_flux, \n",
    "                                                        bandpass_wavs, \n",
    "                                                        bandpass_vals, \n",
    "                                                        bandpass_names,\n",
    "                                                        interp_kind='linear',\n",
    "                                                        plot=False,\n",
    "                                                        clip_bandpass=True)\n",
    "        \n",
    "        # Filter convolution - SPHEREx\n",
    "        central_wavelengths, bandpass_wavs, bandpass_vals, bandpass_names = load_survey_pickle('SPHEREx')\n",
    "        \n",
    "        _, appmag_ext_spherex, _ = photometry_from_spectra(central_wavelengths, \n",
    "                                                           sed_um_wave, \n",
    "                                                           sed_mJy_flux, \n",
    "                                                           bandpass_wavs, \n",
    "                                                           bandpass_vals, \n",
    "                                                           bandpass_names,\n",
    "                                                           interp_kind='linear',\n",
    "                                                           plot=False,\n",
    "                                                           clip_bandpass=True)\n",
    "        \n",
    "        # Filter convolution - COSMOS\n",
    "        central_wavelengths, bandpass_wavs, bandpass_vals, bandpass_names = load_survey_pickle('COSMOS')\n",
    "        \n",
    "        _, appmag_ext_cosmos, _ = photometry_from_spectra(central_wavelengths, \n",
    "                                                          sed_um_wave, \n",
    "                                                          sed_mJy_flux, \n",
    "                                                          bandpass_wavs, \n",
    "                                                          bandpass_vals, \n",
    "                                                          bandpass_names,\n",
    "                                                          interp_kind='linear',\n",
    "                                                          plot=False,\n",
    "                                                          clip_bandpass=True)\n",
    "\n",
    "\n",
    "        # Appending the relevant quantities\n",
    "        final_sed_uJy[galaxy_number] = sed_mJy_flux\n",
    "        final_wave_um[galaxy_number] = sed_um_wave\n",
    "        lsst_mags[galaxy_number] = appmag_ext_lsst\n",
    "        spherex_mags[galaxy_number] = appmag_ext_spherex\n",
    "        cosmos_mags[galaxy_number] = appmag_ext_cosmos\n",
    "    \n",
    "    return final_sed_uJy, final_wave_um, lsst_mags, spherex_mags, cosmos_mags"
   ]
  },
  {
   "cell_type": "code",
   "execution_count": null,
   "metadata": {},
   "outputs": [
    {
     "name": "stdout",
     "output_type": "stream",
     "text": [
      "Number of galaxies: 10\n"
     ]
    }
   ],
   "source": [
    "#| hide\n",
    "\n",
    "galaxy_star_catalog_file='../watercolor/data/test_hacc_stellar_catalog/Gals_Z0_576.txt'\n",
    "final_sed_uJy, final_wave_um, lsst_mags, spherex_mags, cosmos_mags = photometry_from_catalog(galaxy_star_catalog_file)"
   ]
  },
  {
   "cell_type": "code",
   "execution_count": null,
   "metadata": {},
   "outputs": [
    {
     "name": "stdout",
     "output_type": "stream",
     "text": [
      "0\n",
      "1\n",
      "2\n",
      "3\n",
      "4\n",
      "5\n",
      "6\n",
      "7\n",
      "8\n",
      "9\n"
     ]
    },
    {
     "data": {
      "text/plain": [
       "(0.01, 2.2)"
      ]
     },
     "execution_count": null,
     "metadata": {},
     "output_type": "execute_result"
    },
    {
     "data": {
      "image/png": "[encoded data removed]",
      "text/plain": [
       "<Figure size 432x288 with 1 Axes>"
      ]
     },
     "metadata": {
      "needs_background": "light"
     },
     "output_type": "display_data"
    }
   ],
   "source": [
    "#| hide\n",
    "\n",
    "plt.figure()\n",
    "\n",
    "for gal_id in range(final_wave_um.shape[0]):\n",
    "# for gal_id in range(1,2):\n",
    "    print(gal_id)\n",
    "    plt.plot(final_wave_um[gal_id], final_sed_uJy[gal_id])\n",
    "plt.xscale('log')\n",
    "plt.yscale('log')\n",
    "plt.ylabel(r'$F_\\nu$ (mJy)', fontsize=18)\n",
    "plt.xlabel(' Wavelength (um) ', fontsize=18)\n",
    "# plt.xlim(3e3, 1e4)\n",
    "plt.xlim(0.01, 2.2)"
   ]
  },
  {
   "cell_type": "code",
   "execution_count": null,
   "metadata": {},
   "outputs": [],
   "source": [
    "# #| hide \n",
    "\n",
    "# # u-g, g-r, i-z\n",
    "\n",
    "# plt.scatter(u-g, g-r)\n",
    "\n",
    "\n",
    "# # red # g-r > 1.3\n",
    "# # blue # g-r < 0.1"
   ]
  },
  {
   "cell_type": "code",
   "execution_count": null,
   "metadata": {},
   "outputs": [],
   "source": [
    "#| hide\n",
    "import nbdev; nbdev.nbdev_export()"
   ]
  },
  {
   "cell_type": "markdown",
   "metadata": {},
   "source": [
    "<!-- ### One can also find luminosity profiles for the simulated galaxies -->"
   ]
  }
 ],
 "metadata": {
  "kernelspec": {
   "display_name": "python3",
   "language": "python",
   "name": "python3"
  }
 },
 "nbformat": 4,
 "nbformat_minor": 4
}
